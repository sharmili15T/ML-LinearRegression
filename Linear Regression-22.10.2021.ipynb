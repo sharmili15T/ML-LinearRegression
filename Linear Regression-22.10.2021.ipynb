{
 "cells": [
  {
   "cell_type": "code",
   "execution_count": 46,
   "id": "dad874f2",
   "metadata": {},
   "outputs": [],
   "source": [
    "import pandas as pd\n",
    "import numpy as np\n",
    "import matplotlib.pyplot as plt\n",
    "%matplotlib inline\n",
    "import seaborn as sns\n"
   ]
  },
  {
   "cell_type": "code",
   "execution_count": 2,
   "id": "4fe3f5bb",
   "metadata": {},
   "outputs": [],
   "source": [
    "data= pd.read_csv('mktmix.csv')"
   ]
  },
  {
   "cell_type": "code",
   "execution_count": 3,
   "id": "5ee0a104",
   "metadata": {},
   "outputs": [
    {
     "data": {
      "text/html": [
       "<div>\n",
       "<style scoped>\n",
       "    .dataframe tbody tr th:only-of-type {\n",
       "        vertical-align: middle;\n",
       "    }\n",
       "\n",
       "    .dataframe tbody tr th {\n",
       "        vertical-align: top;\n",
       "    }\n",
       "\n",
       "    .dataframe thead th {\n",
       "        text-align: right;\n",
       "    }\n",
       "</style>\n",
       "<table border=\"1\" class=\"dataframe\">\n",
       "  <thead>\n",
       "    <tr style=\"text-align: right;\">\n",
       "      <th></th>\n",
       "      <th>NewVolSales</th>\n",
       "      <th>Base_Price</th>\n",
       "      <th>Radio</th>\n",
       "      <th>InStore</th>\n",
       "      <th>NewspaperInserts</th>\n",
       "      <th>Discount</th>\n",
       "      <th>TV</th>\n",
       "      <th>Stout</th>\n",
       "      <th>Website_Campaign</th>\n",
       "    </tr>\n",
       "  </thead>\n",
       "  <tbody>\n",
       "    <tr>\n",
       "      <th>0</th>\n",
       "      <td>19564</td>\n",
       "      <td>15.029276</td>\n",
       "      <td>245.0</td>\n",
       "      <td>15.452</td>\n",
       "      <td>NaN</td>\n",
       "      <td>0.000</td>\n",
       "      <td>101.780000</td>\n",
       "      <td>2.28342</td>\n",
       "      <td>NaN</td>\n",
       "    </tr>\n",
       "    <tr>\n",
       "      <th>1</th>\n",
       "      <td>19387</td>\n",
       "      <td>15.029276</td>\n",
       "      <td>314.0</td>\n",
       "      <td>16.388</td>\n",
       "      <td>NaN</td>\n",
       "      <td>0.000</td>\n",
       "      <td>76.734000</td>\n",
       "      <td>2.22134</td>\n",
       "      <td>NaN</td>\n",
       "    </tr>\n",
       "    <tr>\n",
       "      <th>2</th>\n",
       "      <td>23889</td>\n",
       "      <td>14.585093</td>\n",
       "      <td>324.0</td>\n",
       "      <td>62.692</td>\n",
       "      <td>NaN</td>\n",
       "      <td>0.050</td>\n",
       "      <td>131.590200</td>\n",
       "      <td>2.00604</td>\n",
       "      <td>NaN</td>\n",
       "    </tr>\n",
       "    <tr>\n",
       "      <th>3</th>\n",
       "      <td>20055</td>\n",
       "      <td>15.332887</td>\n",
       "      <td>298.0</td>\n",
       "      <td>16.573</td>\n",
       "      <td>NaN</td>\n",
       "      <td>0.000</td>\n",
       "      <td>119.627060</td>\n",
       "      <td>2.19897</td>\n",
       "      <td>NaN</td>\n",
       "    </tr>\n",
       "    <tr>\n",
       "      <th>4</th>\n",
       "      <td>20064</td>\n",
       "      <td>15.642632</td>\n",
       "      <td>279.0</td>\n",
       "      <td>41.504</td>\n",
       "      <td>NaN</td>\n",
       "      <td>0.045</td>\n",
       "      <td>103.438118</td>\n",
       "      <td>1.81860</td>\n",
       "      <td>NaN</td>\n",
       "    </tr>\n",
       "  </tbody>\n",
       "</table>\n",
       "</div>"
      ],
      "text/plain": [
       "   NewVolSales  Base_Price  Radio   InStore NewspaperInserts  Discount  \\\n",
       "0        19564   15.029276   245.0   15.452              NaN     0.000   \n",
       "1        19387   15.029276   314.0   16.388              NaN     0.000   \n",
       "2        23889   14.585093   324.0   62.692              NaN     0.050   \n",
       "3        20055   15.332887   298.0   16.573              NaN     0.000   \n",
       "4        20064   15.642632   279.0   41.504              NaN     0.045   \n",
       "\n",
       "           TV    Stout Website_Campaign   \n",
       "0  101.780000  2.28342               NaN  \n",
       "1   76.734000  2.22134               NaN  \n",
       "2  131.590200  2.00604               NaN  \n",
       "3  119.627060  2.19897               NaN  \n",
       "4  103.438118  1.81860               NaN  "
      ]
     },
     "execution_count": 3,
     "metadata": {},
     "output_type": "execute_result"
    }
   ],
   "source": [
    "data.head()"
   ]
  },
  {
   "cell_type": "code",
   "execution_count": 4,
   "id": "d70c79f5",
   "metadata": {},
   "outputs": [
    {
     "data": {
      "text/plain": [
       "(104, 9)"
      ]
     },
     "execution_count": 4,
     "metadata": {},
     "output_type": "execute_result"
    }
   ],
   "source": [
    "data.shape"
   ]
  },
  {
   "cell_type": "code",
   "execution_count": 6,
   "id": "bd68820d",
   "metadata": {},
   "outputs": [
    {
     "data": {
      "text/html": [
       "<div>\n",
       "<style scoped>\n",
       "    .dataframe tbody tr th:only-of-type {\n",
       "        vertical-align: middle;\n",
       "    }\n",
       "\n",
       "    .dataframe tbody tr th {\n",
       "        vertical-align: top;\n",
       "    }\n",
       "\n",
       "    .dataframe thead th {\n",
       "        text-align: right;\n",
       "    }\n",
       "</style>\n",
       "<table border=\"1\" class=\"dataframe\">\n",
       "  <thead>\n",
       "    <tr style=\"text-align: right;\">\n",
       "      <th></th>\n",
       "      <th>NewVolSales</th>\n",
       "      <th>Base_Price</th>\n",
       "      <th>Radio</th>\n",
       "      <th>InStore</th>\n",
       "      <th>Discount</th>\n",
       "      <th>TV</th>\n",
       "      <th>Stout</th>\n",
       "    </tr>\n",
       "  </thead>\n",
       "  <tbody>\n",
       "    <tr>\n",
       "      <th>count</th>\n",
       "      <td>104.00</td>\n",
       "      <td>104.00</td>\n",
       "      <td>100.00</td>\n",
       "      <td>104.00</td>\n",
       "      <td>104.00</td>\n",
       "      <td>104.00</td>\n",
       "      <td>104.00</td>\n",
       "    </tr>\n",
       "    <tr>\n",
       "      <th>mean</th>\n",
       "      <td>20171.07</td>\n",
       "      <td>15.31</td>\n",
       "      <td>256.69</td>\n",
       "      <td>32.92</td>\n",
       "      <td>0.02</td>\n",
       "      <td>141.01</td>\n",
       "      <td>2.55</td>\n",
       "    </tr>\n",
       "    <tr>\n",
       "      <th>std</th>\n",
       "      <td>1578.60</td>\n",
       "      <td>0.53</td>\n",
       "      <td>86.99</td>\n",
       "      <td>13.68</td>\n",
       "      <td>0.03</td>\n",
       "      <td>42.95</td>\n",
       "      <td>0.31</td>\n",
       "    </tr>\n",
       "    <tr>\n",
       "      <th>min</th>\n",
       "      <td>17431.00</td>\n",
       "      <td>13.74</td>\n",
       "      <td>0.00</td>\n",
       "      <td>10.78</td>\n",
       "      <td>0.00</td>\n",
       "      <td>37.66</td>\n",
       "      <td>1.82</td>\n",
       "    </tr>\n",
       "    <tr>\n",
       "      <th>25%</th>\n",
       "      <td>19048.75</td>\n",
       "      <td>15.03</td>\n",
       "      <td>235.00</td>\n",
       "      <td>22.18</td>\n",
       "      <td>0.00</td>\n",
       "      <td>117.11</td>\n",
       "      <td>2.32</td>\n",
       "    </tr>\n",
       "    <tr>\n",
       "      <th>50%</th>\n",
       "      <td>19943.50</td>\n",
       "      <td>15.33</td>\n",
       "      <td>278.50</td>\n",
       "      <td>31.16</td>\n",
       "      <td>0.00</td>\n",
       "      <td>138.58</td>\n",
       "      <td>2.50</td>\n",
       "    </tr>\n",
       "    <tr>\n",
       "      <th>75%</th>\n",
       "      <td>20942.75</td>\n",
       "      <td>15.64</td>\n",
       "      <td>313.25</td>\n",
       "      <td>41.08</td>\n",
       "      <td>0.05</td>\n",
       "      <td>175.68</td>\n",
       "      <td>2.81</td>\n",
       "    </tr>\n",
       "    <tr>\n",
       "      <th>max</th>\n",
       "      <td>24944.00</td>\n",
       "      <td>16.28</td>\n",
       "      <td>399.00</td>\n",
       "      <td>68.12</td>\n",
       "      <td>0.09</td>\n",
       "      <td>240.29</td>\n",
       "      <td>3.16</td>\n",
       "    </tr>\n",
       "  </tbody>\n",
       "</table>\n",
       "</div>"
      ],
      "text/plain": [
       "       NewVolSales  Base_Price  Radio   InStore  Discount     TV  Stout\n",
       "count       104.00      104.00  100.00   104.00    104.00 104.00 104.00\n",
       "mean      20171.07       15.31  256.69    32.92      0.02 141.01   2.55\n",
       "std        1578.60        0.53   86.99    13.68      0.03  42.95   0.31\n",
       "min       17431.00       13.74    0.00    10.78      0.00  37.66   1.82\n",
       "25%       19048.75       15.03  235.00    22.18      0.00 117.11   2.32\n",
       "50%       19943.50       15.33  278.50    31.16      0.00 138.58   2.50\n",
       "75%       20942.75       15.64  313.25    41.08      0.05 175.68   2.81\n",
       "max       24944.00       16.28  399.00    68.12      0.09 240.29   3.16"
      ]
     },
     "execution_count": 6,
     "metadata": {},
     "output_type": "execute_result"
    }
   ],
   "source": [
    "\n",
    "pd.options.display.float_format = '{:.2f}'.format\n",
    "data.describe()"
   ]
  },
  {
   "cell_type": "code",
   "execution_count": 7,
   "id": "a2e311e9",
   "metadata": {},
   "outputs": [
    {
     "data": {
      "text/plain": [
       "Index(['NewVolSales', 'Base_Price', 'Radio ', 'InStore', 'NewspaperInserts',\n",
       "       'Discount', 'TV', 'Stout', 'Website_Campaign '],\n",
       "      dtype='object')"
      ]
     },
     "execution_count": 7,
     "metadata": {},
     "output_type": "execute_result"
    }
   ],
   "source": [
    "data.columns"
   ]
  },
  {
   "cell_type": "code",
   "execution_count": 14,
   "id": "f8baba90",
   "metadata": {},
   "outputs": [
    {
     "data": {
      "text/plain": [
       "NewVolSales            int64\n",
       "Base_Price           float64\n",
       "Radio                float64\n",
       "InStore              float64\n",
       "NewspaperInserts      object\n",
       "Discount             float64\n",
       "TV                   float64\n",
       "Stout                float64\n",
       "Website_Campaign      object\n",
       "dtype: object"
      ]
     },
     "execution_count": 14,
     "metadata": {},
     "output_type": "execute_result"
    }
   ],
   "source": [
    "data.dtypes"
   ]
  },
  {
   "cell_type": "code",
   "execution_count": 17,
   "id": "9ec79356",
   "metadata": {},
   "outputs": [
    {
     "data": {
      "text/plain": [
       "Index(['NewVolSales', 'Base_Price', 'Radio', 'InStore', 'NewspaperInserts',\n",
       "       'Discount', 'TV', 'Stout', 'Website_Campaign'],\n",
       "      dtype='object')"
      ]
     },
     "execution_count": 17,
     "metadata": {},
     "output_type": "execute_result"
    }
   ],
   "source": [
    "data.rename(columns={'Website_Campaign ':'Website_Campaign','Radio ':'Radio'},inplace=True)\n",
    "data.columns"
   ]
  },
  {
   "cell_type": "code",
   "execution_count": 18,
   "id": "46a9e930",
   "metadata": {},
   "outputs": [
    {
     "data": {
      "text/plain": [
       "array([nan, 'Facebook', 'Twitter', 'Website Campaign '], dtype=object)"
      ]
     },
     "execution_count": 18,
     "metadata": {},
     "output_type": "execute_result"
    }
   ],
   "source": [
    "data['Website_Campaign'].unique()"
   ]
  },
  {
   "cell_type": "code",
   "execution_count": 20,
   "id": "d2738347",
   "metadata": {},
   "outputs": [],
   "source": [
    "#cleaning the data values\n",
    "\n",
    "data['Website_Campaign'] =np.where((data['Website_Campaign']=='Website Campaign'),\n",
    "                                  'Website Campaign',data['Website_Campaign'])"
   ]
  },
  {
   "cell_type": "code",
   "execution_count": 24,
   "id": "7c724889",
   "metadata": {},
   "outputs": [
    {
     "data": {
      "text/plain": [
       "count   104.00\n",
       "mean     15.31\n",
       "std       0.53\n",
       "min      13.74\n",
       "25%      15.03\n",
       "50%      15.33\n",
       "75%      15.64\n",
       "max      16.28\n",
       "Name: Base_Price, dtype: float64"
      ]
     },
     "execution_count": 24,
     "metadata": {},
     "output_type": "execute_result"
    }
   ],
   "source": [
    "data['Base_Price'].describe()\n",
    "\n",
    "#the data here is a little skewed\n",
    "#skewed to the left"
   ]
  },
  {
   "cell_type": "code",
   "execution_count": 23,
   "id": "cf119c54",
   "metadata": {},
   "outputs": [
    {
     "data": {
      "text/plain": [
       "<AxesSubplot:ylabel='Frequency'>"
      ]
     },
     "execution_count": 23,
     "metadata": {},
     "output_type": "execute_result"
    },
    {
     "data": {
      "image/png": "[encoded data removed]",
      "text/plain": [
       "<Figure size 432x288 with 1 Axes>"
      ]
     },
     "metadata": {
      "needs_background": "light"
     },
     "output_type": "display_data"
    }
   ],
   "source": [
    "data['Base_Price'].plot(kind='hist')"
   ]
  },
  {
   "cell_type": "code",
   "execution_count": 27,
   "id": "a05755fe",
   "metadata": {},
   "outputs": [
    {
     "data": {
      "text/plain": [
       "<AxesSubplot:>"
      ]
     },
     "execution_count": 27,
     "metadata": {},
     "output_type": "execute_result"
    },
    {
     "data": {
      "image/png": "[encoded data removed]",
      "text/plain": [
       "<Figure size 432x288 with 1 Axes>"
      ]
     },
     "metadata": {
      "needs_background": "light"
     },
     "output_type": "display_data"
    }
   ],
   "source": [
    "data.boxplot(column='Base_Price')"
   ]
  },
  {
   "cell_type": "code",
   "execution_count": 28,
   "id": "c2ceabb8",
   "metadata": {},
   "outputs": [
    {
     "data": {
      "text/plain": [
       "0.00   13.74\n",
       "0.10   14.59\n",
       "0.20   14.97\n",
       "0.30   15.03\n",
       "0.40   15.18\n",
       "0.50   15.33\n",
       "0.60   15.49\n",
       "0.70   15.64\n",
       "0.80   15.80\n",
       "0.90   15.96\n",
       "Name: Base_Price, dtype: float64"
      ]
     },
     "execution_count": 28,
     "metadata": {},
     "output_type": "execute_result"
    }
   ],
   "source": [
    "data['Base_Price'].quantile(np.arange(0,1,0.1))"
   ]
  },
  {
   "cell_type": "code",
   "execution_count": 30,
   "id": "d627cd57",
   "metadata": {},
   "outputs": [
    {
     "data": {
      "text/plain": [
       "13.8779529113"
      ]
     },
     "execution_count": 30,
     "metadata": {},
     "output_type": "execute_result"
    }
   ],
   "source": [
    "q = data['Base_Price'].quantile(0.01)\n",
    "q\n",
    "#here any value less than q maybe the outliners"
   ]
  },
  {
   "cell_type": "code",
   "execution_count": 31,
   "id": "b957117e",
   "metadata": {},
   "outputs": [
    {
     "data": {
      "text/html": [
       "<div>\n",
       "<style scoped>\n",
       "    .dataframe tbody tr th:only-of-type {\n",
       "        vertical-align: middle;\n",
       "    }\n",
       "\n",
       "    .dataframe tbody tr th {\n",
       "        vertical-align: top;\n",
       "    }\n",
       "\n",
       "    .dataframe thead th {\n",
       "        text-align: right;\n",
       "    }\n",
       "</style>\n",
       "<table border=\"1\" class=\"dataframe\">\n",
       "  <thead>\n",
       "    <tr style=\"text-align: right;\">\n",
       "      <th></th>\n",
       "      <th>NewVolSales</th>\n",
       "      <th>Base_Price</th>\n",
       "      <th>Radio</th>\n",
       "      <th>InStore</th>\n",
       "      <th>NewspaperInserts</th>\n",
       "      <th>Discount</th>\n",
       "      <th>TV</th>\n",
       "      <th>Stout</th>\n",
       "      <th>Website_Campaign</th>\n",
       "    </tr>\n",
       "  </thead>\n",
       "  <tbody>\n",
       "    <tr>\n",
       "      <th>74</th>\n",
       "      <td>24468</td>\n",
       "      <td>13.74</td>\n",
       "      <td>251.00</td>\n",
       "      <td>37.84</td>\n",
       "      <td>NaN</td>\n",
       "      <td>0.05</td>\n",
       "      <td>135.15</td>\n",
       "      <td>2.66</td>\n",
       "      <td>NaN</td>\n",
       "    </tr>\n",
       "    <tr>\n",
       "      <th>76</th>\n",
       "      <td>21710</td>\n",
       "      <td>13.87</td>\n",
       "      <td>261.00</td>\n",
       "      <td>34.22</td>\n",
       "      <td>NaN</td>\n",
       "      <td>0.00</td>\n",
       "      <td>148.71</td>\n",
       "      <td>2.98</td>\n",
       "      <td>NaN</td>\n",
       "    </tr>\n",
       "  </tbody>\n",
       "</table>\n",
       "</div>"
      ],
      "text/plain": [
       "    NewVolSales  Base_Price  Radio  InStore NewspaperInserts  Discount     TV  \\\n",
       "74        24468       13.74 251.00    37.84              NaN      0.05 135.15   \n",
       "76        21710       13.87 261.00    34.22              NaN      0.00 148.71   \n",
       "\n",
       "    Stout Website_Campaign  \n",
       "74   2.66              NaN  \n",
       "76   2.98              NaN  "
      ]
     },
     "execution_count": 31,
     "metadata": {},
     "output_type": "execute_result"
    }
   ],
   "source": [
    "data[data['Base_Price']<q]"
   ]
  },
  {
   "cell_type": "code",
   "execution_count": 33,
   "id": "ed418123",
   "metadata": {},
   "outputs": [],
   "source": [
    "#here we dont see much outliners but still we replace this value with avg(base price)\n",
    "\n",
    "avg=data['Base_Price'].mean()\n",
    "\n",
    "data.loc[(data['Base_Price']<q),'Base_Price']=avg"
   ]
  },
  {
   "cell_type": "code",
   "execution_count": 34,
   "id": "804bcd63",
   "metadata": {},
   "outputs": [
    {
     "data": {
      "text/plain": [
       "count   104.00\n",
       "mean     15.34\n",
       "std       0.48\n",
       "min      14.01\n",
       "25%      15.03\n",
       "50%      15.33\n",
       "75%      15.64\n",
       "max      16.28\n",
       "Name: Base_Price, dtype: float64"
      ]
     },
     "execution_count": 34,
     "metadata": {},
     "output_type": "execute_result"
    }
   ],
   "source": [
    "data['Base_Price'].describe()"
   ]
  },
  {
   "cell_type": "code",
   "execution_count": 35,
   "id": "b0d87762",
   "metadata": {},
   "outputs": [
    {
     "data": {
      "text/plain": [
       "count     104.00\n",
       "mean    20171.07\n",
       "std      1578.60\n",
       "min     17431.00\n",
       "25%     19048.75\n",
       "50%     19943.50\n",
       "75%     20942.75\n",
       "max     24944.00\n",
       "Name: NewVolSales, dtype: float64"
      ]
     },
     "execution_count": 35,
     "metadata": {},
     "output_type": "execute_result"
    }
   ],
   "source": [
    "data['NewVolSales'].describe()"
   ]
  },
  {
   "cell_type": "code",
   "execution_count": 37,
   "id": "0c5f97d3",
   "metadata": {},
   "outputs": [
    {
     "data": {
      "text/plain": [
       "<AxesSubplot:ylabel='Frequency'>"
      ]
     },
     "execution_count": 37,
     "metadata": {},
     "output_type": "execute_result"
    },
    {
     "data": {
      "image/png": "[encoded data removed]",
      "text/plain": [
       "<Figure size 432x288 with 1 Axes>"
      ]
     },
     "metadata": {
      "needs_background": "light"
     },
     "output_type": "display_data"
    }
   ],
   "source": [
    "#even though there is postive skewness\n",
    "#here this is the target column hence we dont deal with the outliers\n",
    "\n",
    "data['NewVolSales'].plot(kind='hist')"
   ]
  },
  {
   "cell_type": "code",
   "execution_count": 38,
   "id": "3ad7a20a",
   "metadata": {},
   "outputs": [
    {
     "data": {
      "text/plain": [
       "count   100.00\n",
       "mean    256.69\n",
       "std      86.99\n",
       "min       0.00\n",
       "25%     235.00\n",
       "50%     278.50\n",
       "75%     313.25\n",
       "max     399.00\n",
       "Name: Radio, dtype: float64"
      ]
     },
     "execution_count": 38,
     "metadata": {},
     "output_type": "execute_result"
    }
   ],
   "source": [
    "data['Radio'].describe()"
   ]
  },
  {
   "cell_type": "code",
   "execution_count": 39,
   "id": "12b22bc9",
   "metadata": {},
   "outputs": [
    {
     "data": {
      "text/plain": [
       "4"
      ]
     },
     "execution_count": 39,
     "metadata": {},
     "output_type": "execute_result"
    }
   ],
   "source": [
    "data['Radio'].isnull().sum()"
   ]
  },
  {
   "cell_type": "code",
   "execution_count": 40,
   "id": "65b2c85d",
   "metadata": {},
   "outputs": [],
   "source": [
    "data['Radio']=data['Radio'].fillna(data['Radio'].mean())"
   ]
  },
  {
   "cell_type": "code",
   "execution_count": 41,
   "id": "a76da436",
   "metadata": {},
   "outputs": [
    {
     "data": {
      "text/plain": [
       "count   104.00\n",
       "mean    256.69\n",
       "std      85.29\n",
       "min       0.00\n",
       "25%     235.75\n",
       "50%     276.00\n",
       "75%     312.25\n",
       "max     399.00\n",
       "Name: Radio, dtype: float64"
      ]
     },
     "execution_count": 41,
     "metadata": {},
     "output_type": "execute_result"
    }
   ],
   "source": [
    "data['Radio'].describe()"
   ]
  },
  {
   "cell_type": "code",
   "execution_count": 43,
   "id": "8396dab3",
   "metadata": {},
   "outputs": [
    {
     "data": {
      "text/plain": [
       "NaN                  90\n",
       "Website Campaign      6\n",
       "Twitter               4\n",
       "Facebook              4\n",
       "Name: Website_Campaign, dtype: int64"
      ]
     },
     "execution_count": 43,
     "metadata": {},
     "output_type": "execute_result"
    }
   ],
   "source": [
    "data['Website_Campaign'].value_counts(dropna=False)"
   ]
  },
  {
   "cell_type": "code",
   "execution_count": 44,
   "id": "31f7cbde",
   "metadata": {},
   "outputs": [
    {
     "data": {
      "text/plain": [
       "<AxesSubplot:xlabel='NewVolSales', ylabel='Base_Price'>"
      ]
     },
     "execution_count": 44,
     "metadata": {},
     "output_type": "execute_result"
    },
    {
     "data": {
      "image/png": "[encoded data removed]",
      "text/plain": [
       "<Figure size 432x288 with 1 Axes>"
      ]
     },
     "metadata": {
      "needs_background": "light"
     },
     "output_type": "display_data"
    }
   ],
   "source": [
    "data.plot(x='NewVolSales',y='Base_Price',kind='scatter')"
   ]
  },
  {
   "cell_type": "code",
   "execution_count": 45,
   "id": "9adec83b",
   "metadata": {},
   "outputs": [
    {
     "data": {
      "text/plain": [
       "<AxesSubplot:xlabel='NewVolSales', ylabel='Radio'>"
      ]
     },
     "execution_count": 45,
     "metadata": {},
     "output_type": "execute_result"
    },
    {
     "data": {
      "image/png": "[encoded data removed]",
      "text/plain": [
       "<Figure size 432x288 with 1 Axes>"
      ]
     },
     "metadata": {
      "needs_background": "light"
     },
     "output_type": "display_data"
    }
   ],
   "source": [
    "data.plot(x='NewVolSales',y='Radio',kind='scatter')"
   ]
  },
  {
   "cell_type": "code",
   "execution_count": 47,
   "id": "841bacd7",
   "metadata": {},
   "outputs": [
    {
     "data": {
      "text/html": [
       "<div>\n",
       "<style scoped>\n",
       "    .dataframe tbody tr th:only-of-type {\n",
       "        vertical-align: middle;\n",
       "    }\n",
       "\n",
       "    .dataframe tbody tr th {\n",
       "        vertical-align: top;\n",
       "    }\n",
       "\n",
       "    .dataframe thead th {\n",
       "        text-align: right;\n",
       "    }\n",
       "</style>\n",
       "<table border=\"1\" class=\"dataframe\">\n",
       "  <thead>\n",
       "    <tr style=\"text-align: right;\">\n",
       "      <th></th>\n",
       "      <th>NewVolSales</th>\n",
       "      <th>Base_Price</th>\n",
       "      <th>Radio</th>\n",
       "      <th>InStore</th>\n",
       "      <th>Discount</th>\n",
       "      <th>TV</th>\n",
       "      <th>Stout</th>\n",
       "    </tr>\n",
       "  </thead>\n",
       "  <tbody>\n",
       "    <tr>\n",
       "      <th>NewVolSales</th>\n",
       "      <td>1.00</td>\n",
       "      <td>-0.68</td>\n",
       "      <td>0.05</td>\n",
       "      <td>0.44</td>\n",
       "      <td>0.42</td>\n",
       "      <td>0.15</td>\n",
       "      <td>-0.38</td>\n",
       "    </tr>\n",
       "    <tr>\n",
       "      <th>Base_Price</th>\n",
       "      <td>-0.68</td>\n",
       "      <td>1.00</td>\n",
       "      <td>-0.00</td>\n",
       "      <td>-0.24</td>\n",
       "      <td>-0.20</td>\n",
       "      <td>0.07</td>\n",
       "      <td>0.02</td>\n",
       "    </tr>\n",
       "    <tr>\n",
       "      <th>Radio</th>\n",
       "      <td>0.05</td>\n",
       "      <td>-0.00</td>\n",
       "      <td>1.00</td>\n",
       "      <td>-0.02</td>\n",
       "      <td>0.11</td>\n",
       "      <td>-0.06</td>\n",
       "      <td>-0.19</td>\n",
       "    </tr>\n",
       "    <tr>\n",
       "      <th>InStore</th>\n",
       "      <td>0.44</td>\n",
       "      <td>-0.24</td>\n",
       "      <td>-0.02</td>\n",
       "      <td>1.00</td>\n",
       "      <td>0.72</td>\n",
       "      <td>-0.02</td>\n",
       "      <td>0.03</td>\n",
       "    </tr>\n",
       "    <tr>\n",
       "      <th>Discount</th>\n",
       "      <td>0.42</td>\n",
       "      <td>-0.20</td>\n",
       "      <td>0.11</td>\n",
       "      <td>0.72</td>\n",
       "      <td>1.00</td>\n",
       "      <td>0.12</td>\n",
       "      <td>-0.03</td>\n",
       "    </tr>\n",
       "    <tr>\n",
       "      <th>TV</th>\n",
       "      <td>0.15</td>\n",
       "      <td>0.07</td>\n",
       "      <td>-0.06</td>\n",
       "      <td>-0.02</td>\n",
       "      <td>0.12</td>\n",
       "      <td>1.00</td>\n",
       "      <td>-0.13</td>\n",
       "    </tr>\n",
       "    <tr>\n",
       "      <th>Stout</th>\n",
       "      <td>-0.38</td>\n",
       "      <td>0.02</td>\n",
       "      <td>-0.19</td>\n",
       "      <td>0.03</td>\n",
       "      <td>-0.03</td>\n",
       "      <td>-0.13</td>\n",
       "      <td>1.00</td>\n",
       "    </tr>\n",
       "  </tbody>\n",
       "</table>\n",
       "</div>"
      ],
      "text/plain": [
       "             NewVolSales  Base_Price  Radio  InStore  Discount    TV  Stout\n",
       "NewVolSales         1.00       -0.68   0.05     0.44      0.42  0.15  -0.38\n",
       "Base_Price         -0.68        1.00  -0.00    -0.24     -0.20  0.07   0.02\n",
       "Radio               0.05       -0.00   1.00    -0.02      0.11 -0.06  -0.19\n",
       "InStore             0.44       -0.24  -0.02     1.00      0.72 -0.02   0.03\n",
       "Discount            0.42       -0.20   0.11     0.72      1.00  0.12  -0.03\n",
       "TV                  0.15        0.07  -0.06    -0.02      0.12  1.00  -0.13\n",
       "Stout              -0.38        0.02  -0.19     0.03     -0.03 -0.13   1.00"
      ]
     },
     "execution_count": 47,
     "metadata": {},
     "output_type": "execute_result"
    }
   ],
   "source": [
    "data.corr()"
   ]
  },
  {
   "cell_type": "code",
   "execution_count": 48,
   "id": "ad1bbfe9",
   "metadata": {},
   "outputs": [
    {
     "data": {
      "text/plain": [
       "<AxesSubplot:>"
      ]
     },
     "execution_count": 48,
     "metadata": {},
     "output_type": "execute_result"
    },
    {
     "data": {
      "image/png": "[encoded data removed]",
      "text/plain": [
       "<Figure size 432x288 with 2 Axes>"
      ]
     },
     "metadata": {
      "needs_background": "light"
     },
     "output_type": "display_data"
    }
   ],
   "source": [
    "sns.heatmap(data.corr(),annot=True)"
   ]
  },
  {
   "cell_type": "code",
   "execution_count": 56,
   "id": "7958c7f3",
   "metadata": {},
   "outputs": [
    {
     "data": {
      "text/plain": [
       "Index(['NewVolSales', 'Base_Price', 'Radio', 'InStore', 'Discount', 'TV',\n",
       "       'Stout', 'NewspaperInserts_Insert', 'Website_Campaign_Facebook',\n",
       "       'Website_Campaign_Twitter', 'Website_Campaign_Website Campaign '],\n",
       "      dtype='object')"
      ]
     },
     "execution_count": 56,
     "metadata": {},
     "output_type": "execute_result"
    }
   ],
   "source": [
    "data.columns"
   ]
  },
  {
   "cell_type": "code",
   "execution_count": 57,
   "id": "1d89247e",
   "metadata": {},
   "outputs": [
    {
     "data": {
      "text/html": [
       "<div>\n",
       "<style scoped>\n",
       "    .dataframe tbody tr th:only-of-type {\n",
       "        vertical-align: middle;\n",
       "    }\n",
       "\n",
       "    .dataframe tbody tr th {\n",
       "        vertical-align: top;\n",
       "    }\n",
       "\n",
       "    .dataframe thead th {\n",
       "        text-align: right;\n",
       "    }\n",
       "</style>\n",
       "<table border=\"1\" class=\"dataframe\">\n",
       "  <thead>\n",
       "    <tr style=\"text-align: right;\">\n",
       "      <th></th>\n",
       "      <th>NewVolSales</th>\n",
       "      <th>Base_Price</th>\n",
       "      <th>Radio</th>\n",
       "      <th>InStore</th>\n",
       "      <th>Discount</th>\n",
       "      <th>TV</th>\n",
       "      <th>Stout</th>\n",
       "      <th>NewspaperInserts_Insert</th>\n",
       "      <th>Website_Campaign_Facebook</th>\n",
       "      <th>Website_Campaign_Twitter</th>\n",
       "      <th>Website_Campaign_Website Campaign</th>\n",
       "    </tr>\n",
       "  </thead>\n",
       "  <tbody>\n",
       "    <tr>\n",
       "      <th>0</th>\n",
       "      <td>19564</td>\n",
       "      <td>15.03</td>\n",
       "      <td>245.00</td>\n",
       "      <td>15.45</td>\n",
       "      <td>0.00</td>\n",
       "      <td>101.78</td>\n",
       "      <td>2.28</td>\n",
       "      <td>0</td>\n",
       "      <td>0</td>\n",
       "      <td>0</td>\n",
       "      <td>0</td>\n",
       "    </tr>\n",
       "    <tr>\n",
       "      <th>1</th>\n",
       "      <td>19387</td>\n",
       "      <td>15.03</td>\n",
       "      <td>314.00</td>\n",
       "      <td>16.39</td>\n",
       "      <td>0.00</td>\n",
       "      <td>76.73</td>\n",
       "      <td>2.22</td>\n",
       "      <td>0</td>\n",
       "      <td>0</td>\n",
       "      <td>0</td>\n",
       "      <td>0</td>\n",
       "    </tr>\n",
       "    <tr>\n",
       "      <th>2</th>\n",
       "      <td>23889</td>\n",
       "      <td>14.59</td>\n",
       "      <td>324.00</td>\n",
       "      <td>62.69</td>\n",
       "      <td>0.05</td>\n",
       "      <td>131.59</td>\n",
       "      <td>2.01</td>\n",
       "      <td>0</td>\n",
       "      <td>0</td>\n",
       "      <td>0</td>\n",
       "      <td>0</td>\n",
       "    </tr>\n",
       "    <tr>\n",
       "      <th>3</th>\n",
       "      <td>20055</td>\n",
       "      <td>15.33</td>\n",
       "      <td>298.00</td>\n",
       "      <td>16.57</td>\n",
       "      <td>0.00</td>\n",
       "      <td>119.63</td>\n",
       "      <td>2.20</td>\n",
       "      <td>0</td>\n",
       "      <td>0</td>\n",
       "      <td>0</td>\n",
       "      <td>0</td>\n",
       "    </tr>\n",
       "    <tr>\n",
       "      <th>4</th>\n",
       "      <td>20064</td>\n",
       "      <td>15.64</td>\n",
       "      <td>279.00</td>\n",
       "      <td>41.50</td>\n",
       "      <td>0.04</td>\n",
       "      <td>103.44</td>\n",
       "      <td>1.82</td>\n",
       "      <td>0</td>\n",
       "      <td>0</td>\n",
       "      <td>0</td>\n",
       "      <td>0</td>\n",
       "    </tr>\n",
       "  </tbody>\n",
       "</table>\n",
       "</div>"
      ],
      "text/plain": [
       "   NewVolSales  Base_Price  Radio  InStore  Discount     TV  Stout  \\\n",
       "0        19564       15.03 245.00    15.45      0.00 101.78   2.28   \n",
       "1        19387       15.03 314.00    16.39      0.00  76.73   2.22   \n",
       "2        23889       14.59 324.00    62.69      0.05 131.59   2.01   \n",
       "3        20055       15.33 298.00    16.57      0.00 119.63   2.20   \n",
       "4        20064       15.64 279.00    41.50      0.04 103.44   1.82   \n",
       "\n",
       "   NewspaperInserts_Insert  Website_Campaign_Facebook  \\\n",
       "0                        0                          0   \n",
       "1                        0                          0   \n",
       "2                        0                          0   \n",
       "3                        0                          0   \n",
       "4                        0                          0   \n",
       "\n",
       "   Website_Campaign_Twitter  Website_Campaign_Website Campaign   \n",
       "0                         0                                   0  \n",
       "1                         0                                   0  \n",
       "2                         0                                   0  \n",
       "3                         0                                   0  \n",
       "4                         0                                   0  "
      ]
     },
     "execution_count": 57,
     "metadata": {},
     "output_type": "execute_result"
    }
   ],
   "source": [
    "data.head()"
   ]
  },
  {
   "cell_type": "code",
   "execution_count": 58,
   "id": "d4751fd1",
   "metadata": {},
   "outputs": [
    {
     "data": {
      "text/plain": [
       "0    98\n",
       "1     6\n",
       "Name: NewspaperInserts_Insert, dtype: int64"
      ]
     },
     "execution_count": 58,
     "metadata": {},
     "output_type": "execute_result"
    }
   ],
   "source": [
    "data['NewspaperInserts_Insert'].value_counts()"
   ]
  },
  {
   "cell_type": "code",
   "execution_count": null,
   "id": "cdd1a709",
   "metadata": {},
   "outputs": [],
   "source": [
    "#here to convert categorical to numerical we use dummies to give value\n",
    "# another thing that we use is Label encoding\n",
    "#but in label encoding priority is given to the values\n",
    "#hence it is good to use dummies\n"
   ]
  },
  {
   "cell_type": "code",
   "execution_count": 59,
   "id": "ef8678ee",
   "metadata": {},
   "outputs": [
    {
     "name": "stdout",
     "output_type": "stream",
     "text": [
      "<class 'pandas.core.frame.DataFrame'>\n",
      "RangeIndex: 104 entries, 0 to 103\n",
      "Data columns (total 11 columns):\n",
      " #   Column                              Non-Null Count  Dtype  \n",
      "---  ------                              --------------  -----  \n",
      " 0   NewVolSales                         104 non-null    int64  \n",
      " 1   Base_Price                          104 non-null    float64\n",
      " 2   Radio                               104 non-null    float64\n",
      " 3   InStore                             104 non-null    float64\n",
      " 4   Discount                            104 non-null    float64\n",
      " 5   TV                                  104 non-null    float64\n",
      " 6   Stout                               104 non-null    float64\n",
      " 7   NewspaperInserts_Insert             104 non-null    uint8  \n",
      " 8   Website_Campaign_Facebook           104 non-null    uint8  \n",
      " 9   Website_Campaign_Twitter            104 non-null    uint8  \n",
      " 10  Website_Campaign_Website Campaign   104 non-null    uint8  \n",
      "dtypes: float64(6), int64(1), uint8(4)\n",
      "memory usage: 6.2 KB\n"
     ]
    }
   ],
   "source": [
    "data.info()"
   ]
  },
  {
   "cell_type": "code",
   "execution_count": 61,
   "id": "f7db54a3",
   "metadata": {},
   "outputs": [
    {
     "data": {
      "text/html": [
       "<div>\n",
       "<style scoped>\n",
       "    .dataframe tbody tr th:only-of-type {\n",
       "        vertical-align: middle;\n",
       "    }\n",
       "\n",
       "    .dataframe tbody tr th {\n",
       "        vertical-align: top;\n",
       "    }\n",
       "\n",
       "    .dataframe thead th {\n",
       "        text-align: right;\n",
       "    }\n",
       "</style>\n",
       "<table border=\"1\" class=\"dataframe\">\n",
       "  <thead>\n",
       "    <tr style=\"text-align: right;\">\n",
       "      <th></th>\n",
       "      <th>Base_Price</th>\n",
       "      <th>Radio</th>\n",
       "      <th>InStore</th>\n",
       "      <th>Discount</th>\n",
       "      <th>TV</th>\n",
       "      <th>Stout</th>\n",
       "      <th>NewspaperInserts_Insert</th>\n",
       "      <th>Website_Campaign_Facebook</th>\n",
       "      <th>Website_Campaign_Twitter</th>\n",
       "      <th>Website_Campaign_Website Campaign</th>\n",
       "    </tr>\n",
       "  </thead>\n",
       "  <tbody>\n",
       "    <tr>\n",
       "      <th>0</th>\n",
       "      <td>15.03</td>\n",
       "      <td>245.00</td>\n",
       "      <td>15.45</td>\n",
       "      <td>0.00</td>\n",
       "      <td>101.78</td>\n",
       "      <td>2.28</td>\n",
       "      <td>0</td>\n",
       "      <td>0</td>\n",
       "      <td>0</td>\n",
       "      <td>0</td>\n",
       "    </tr>\n",
       "    <tr>\n",
       "      <th>1</th>\n",
       "      <td>15.03</td>\n",
       "      <td>314.00</td>\n",
       "      <td>16.39</td>\n",
       "      <td>0.00</td>\n",
       "      <td>76.73</td>\n",
       "      <td>2.22</td>\n",
       "      <td>0</td>\n",
       "      <td>0</td>\n",
       "      <td>0</td>\n",
       "      <td>0</td>\n",
       "    </tr>\n",
       "    <tr>\n",
       "      <th>2</th>\n",
       "      <td>14.59</td>\n",
       "      <td>324.00</td>\n",
       "      <td>62.69</td>\n",
       "      <td>0.05</td>\n",
       "      <td>131.59</td>\n",
       "      <td>2.01</td>\n",
       "      <td>0</td>\n",
       "      <td>0</td>\n",
       "      <td>0</td>\n",
       "      <td>0</td>\n",
       "    </tr>\n",
       "    <tr>\n",
       "      <th>3</th>\n",
       "      <td>15.33</td>\n",
       "      <td>298.00</td>\n",
       "      <td>16.57</td>\n",
       "      <td>0.00</td>\n",
       "      <td>119.63</td>\n",
       "      <td>2.20</td>\n",
       "      <td>0</td>\n",
       "      <td>0</td>\n",
       "      <td>0</td>\n",
       "      <td>0</td>\n",
       "    </tr>\n",
       "    <tr>\n",
       "      <th>4</th>\n",
       "      <td>15.64</td>\n",
       "      <td>279.00</td>\n",
       "      <td>41.50</td>\n",
       "      <td>0.04</td>\n",
       "      <td>103.44</td>\n",
       "      <td>1.82</td>\n",
       "      <td>0</td>\n",
       "      <td>0</td>\n",
       "      <td>0</td>\n",
       "      <td>0</td>\n",
       "    </tr>\n",
       "  </tbody>\n",
       "</table>\n",
       "</div>"
      ],
      "text/plain": [
       "   Base_Price  Radio  InStore  Discount     TV  Stout  \\\n",
       "0       15.03 245.00    15.45      0.00 101.78   2.28   \n",
       "1       15.03 314.00    16.39      0.00  76.73   2.22   \n",
       "2       14.59 324.00    62.69      0.05 131.59   2.01   \n",
       "3       15.33 298.00    16.57      0.00 119.63   2.20   \n",
       "4       15.64 279.00    41.50      0.04 103.44   1.82   \n",
       "\n",
       "   NewspaperInserts_Insert  Website_Campaign_Facebook  \\\n",
       "0                        0                          0   \n",
       "1                        0                          0   \n",
       "2                        0                          0   \n",
       "3                        0                          0   \n",
       "4                        0                          0   \n",
       "\n",
       "   Website_Campaign_Twitter  Website_Campaign_Website Campaign   \n",
       "0                         0                                   0  \n",
       "1                         0                                   0  \n",
       "2                         0                                   0  \n",
       "3                         0                                   0  \n",
       "4                         0                                   0  "
      ]
     },
     "execution_count": 61,
     "metadata": {},
     "output_type": "execute_result"
    }
   ],
   "source": [
    "x= data.drop(['NewVolSales'],axis=1)\n",
    "x.head()"
   ]
  },
  {
   "cell_type": "code",
   "execution_count": 63,
   "id": "13e9764b",
   "metadata": {},
   "outputs": [
    {
     "data": {
      "text/plain": [
       "0    19564\n",
       "1    19387\n",
       "2    23889\n",
       "3    20055\n",
       "4    20064\n",
       "Name: NewVolSales, dtype: int64"
      ]
     },
     "execution_count": 63,
     "metadata": {},
     "output_type": "execute_result"
    }
   ],
   "source": [
    "y= data['NewVolSales']\n",
    "y.head()"
   ]
  },
  {
   "cell_type": "markdown",
   "id": "d88aad19",
   "metadata": {},
   "source": [
    "## Test and train\n",
    "\n",
    "Here we spliting the data from train and test"
   ]
  },
  {
   "cell_type": "code",
   "execution_count": 64,
   "id": "e237e646",
   "metadata": {},
   "outputs": [],
   "source": [
    "from sklearn.model_selection import train_test_split"
   ]
  },
  {
   "cell_type": "code",
   "execution_count": 66,
   "id": "e51ae37f",
   "metadata": {},
   "outputs": [],
   "source": [
    "xtrain , xtest, ytrain, ytest = train_test_split(x,y,test_size=0.2,random_state=123)"
   ]
  },
  {
   "cell_type": "code",
   "execution_count": 67,
   "id": "50078624",
   "metadata": {},
   "outputs": [
    {
     "data": {
      "text/plain": [
       "50    20997\n",
       "29    21507\n",
       "54    20690\n",
       "19    20402\n",
       "59    19004\n",
       "Name: NewVolSales, dtype: int64"
      ]
     },
     "execution_count": 67,
     "metadata": {},
     "output_type": "execute_result"
    }
   ],
   "source": [
    "ytrain[:5]"
   ]
  },
  {
   "cell_type": "markdown",
   "id": "fdacc1d9",
   "metadata": {},
   "source": [
    "## Doing Analysis"
   ]
  },
  {
   "cell_type": "code",
   "execution_count": 69,
   "id": "84699cb2",
   "metadata": {},
   "outputs": [],
   "source": [
    "import statsmodels.api as sm\n",
    "\n",
    "#here it is the best model to get the details about the process of the stats analysis"
   ]
  },
  {
   "cell_type": "code",
   "execution_count": 70,
   "id": "ca37f4d2",
   "metadata": {},
   "outputs": [],
   "source": [
    "xtrain= sm.add_constant(xtrain)\n",
    "xtest= sm.add_constant(xtest)\n",
    "\n",
    "#we are adding the intercept value implicitly\n",
    "#it lays foundation for beta values\n",
    "#stats model do not add so here we add implicitly \n"
   ]
  },
  {
   "cell_type": "code",
   "execution_count": 71,
   "id": "ce366837",
   "metadata": {},
   "outputs": [],
   "source": [
    "model1= sm.OLS(ytrain, xtrain) #calling ordinary least square model on training data \n",
    "\n",
    "results1= model1.fit()# we fit the data "
   ]
  },
  {
   "cell_type": "code",
   "execution_count": null,
   "id": "1f7454c8",
   "metadata": {},
   "outputs": [],
   "source": []
  },
  {
   "cell_type": "markdown",
   "id": "20f5b476",
   "metadata": {},
   "source": [
    "### Backward Stepwise Regression"
   ]
  },
  {
   "cell_type": "markdown",
   "id": "013ad283",
   "metadata": {},
   "source": [
    "### Step1"
   ]
  },
  {
   "cell_type": "code",
   "execution_count": 74,
   "id": "4bf63466",
   "metadata": {},
   "outputs": [
    {
     "name": "stdout",
     "output_type": "stream",
     "text": [
      "                            OLS Regression Results                            \n",
      "==============================================================================\n",
      "Dep. Variable:            NewVolSales   R-squared:                       0.749\n",
      "Model:                            OLS   Adj. R-squared:                  0.715\n",
      "Method:                 Least Squares   F-statistic:                     21.52\n",
      "Date:                Fri, 22 Oct 2021   Prob (F-statistic):           6.98e-18\n",
      "Time:                        14:18:18   Log-Likelihood:                -674.64\n",
      "No. Observations:                  83   AIC:                             1371.\n",
      "Df Residuals:                      72   BIC:                             1398.\n",
      "Df Model:                          10                                         \n",
      "Covariance Type:            nonrobust                                         \n",
      "======================================================================================================\n",
      "                                         coef    std err          t      P>|t|      [0.025      0.975]\n",
      "------------------------------------------------------------------------------------------------------\n",
      "const                               5.474e+04   3567.018     15.347      0.000    4.76e+04    6.19e+04\n",
      "Base_Price                         -2056.1750    223.613     -9.195      0.000   -2501.940   -1610.410\n",
      "Radio                                 -0.7071      1.181     -0.599      0.551      -3.061       1.647\n",
      "InStore                               29.4727     10.988      2.682      0.009       7.569      51.377\n",
      "Discount                            7373.1831   5227.483      1.410      0.163   -3047.614    1.78e+04\n",
      "TV                                     3.2381      2.544      1.273      0.207      -1.833       8.309\n",
      "Stout                              -1694.6674    342.498     -4.948      0.000   -2377.425   -1011.910\n",
      "NewspaperInserts_Insert               94.0936    458.381      0.205      0.838    -819.673    1007.860\n",
      "Website_Campaign_Facebook            207.3878    547.210      0.379      0.706    -883.456    1298.231\n",
      "Website_Campaign_Twitter             332.9501    483.059      0.689      0.493    -630.010    1295.910\n",
      "Website_Campaign_Website Campaign  -1344.5335    482.607     -2.786      0.007   -2306.592    -382.475\n",
      "==============================================================================\n",
      "Omnibus:                       39.607   Durbin-Watson:                   2.260\n",
      "Prob(Omnibus):                  0.000   Jarque-Bera (JB):              133.619\n",
      "Skew:                           1.489   Prob(JB):                     9.66e-30\n",
      "Kurtosis:                       8.456   Cond. No.                     1.66e+04\n",
      "==============================================================================\n",
      "\n",
      "Notes:\n",
      "[1] Standard Errors assume that the covariance matrix of the errors is correctly specified.\n",
      "[2] The condition number is large, 1.66e+04. This might indicate that there are\n",
      "strong multicollinearity or other numerical problems.\n"
     ]
    }
   ],
   "source": [
    "results1.summary()\n",
    "print(results1.summary())\n",
    "#prints of info of the model"
   ]
  },
  {
   "cell_type": "markdown",
   "id": "c9a40ea2",
   "metadata": {},
   "source": [
    "### Step-2"
   ]
  },
  {
   "cell_type": "code",
   "execution_count": 77,
   "id": "c1d47e26",
   "metadata": {},
   "outputs": [],
   "source": [
    "xtrain2 = xtrain.drop('NewspaperInserts_Insert',axis=1)\n",
    "xtest2 = xtest.drop('NewspaperInserts_Insert',axis=1)\n"
   ]
  },
  {
   "cell_type": "code",
   "execution_count": 80,
   "id": "49ac727f",
   "metadata": {},
   "outputs": [
    {
     "name": "stdout",
     "output_type": "stream",
     "text": [
      "                            OLS Regression Results                            \n",
      "==============================================================================\n",
      "Dep. Variable:            NewVolSales   R-squared:                       0.749\n",
      "Model:                            OLS   Adj. R-squared:                  0.718\n",
      "Method:                 Least Squares   F-statistic:                     24.23\n",
      "Date:                Fri, 22 Oct 2021   Prob (F-statistic):           1.40e-18\n",
      "Time:                        14:32:47   Log-Likelihood:                -674.67\n",
      "No. Observations:                  83   AIC:                             1369.\n",
      "Df Residuals:                      73   BIC:                             1394.\n",
      "Df Model:                           9                                         \n",
      "Covariance Type:            nonrobust                                         \n",
      "======================================================================================================\n",
      "                                         coef    std err          t      P>|t|      [0.025      0.975]\n",
      "------------------------------------------------------------------------------------------------------\n",
      "const                               5.471e+04   3539.681     15.456      0.000    4.77e+04    6.18e+04\n",
      "Base_Price                         -2053.9811    221.888     -9.257      0.000   -2496.203   -1611.760\n",
      "Radio                                 -0.6910      1.171     -0.590      0.557      -3.024       1.642\n",
      "InStore                               29.3031     10.885      2.692      0.009       7.610      50.996\n",
      "Discount                            7446.6060   5180.903      1.437      0.155   -2878.920    1.78e+04\n",
      "TV                                     3.2022      2.521      1.270      0.208      -1.822       8.226\n",
      "Stout                              -1690.4378    339.627     -4.977      0.000   -2367.314   -1013.562\n",
      "Website_Campaign_Facebook            201.1661    542.774      0.371      0.712    -880.581    1282.913\n",
      "Website_Campaign_Twitter             330.3357    479.712      0.689      0.493    -625.729    1286.401\n",
      "Website_Campaign_Website Campaign  -1350.5118    478.556     -2.822      0.006   -2304.273    -396.751\n",
      "==============================================================================\n",
      "Omnibus:                       39.186   Durbin-Watson:                   2.243\n",
      "Prob(Omnibus):                  0.000   Jarque-Bera (JB):              130.808\n",
      "Skew:                           1.475   Prob(JB):                     3.94e-29\n",
      "Kurtosis:                       8.396   Cond. No.                     1.65e+04\n",
      "==============================================================================\n",
      "\n",
      "Notes:\n",
      "[1] Standard Errors assume that the covariance matrix of the errors is correctly specified.\n",
      "[2] The condition number is large, 1.65e+04. This might indicate that there are\n",
      "strong multicollinearity or other numerical problems.\n"
     ]
    }
   ],
   "source": [
    "model2 = sm.OLS(ytrain,xtrain2)\n",
    "result2 = model2.fit()\n",
    "print(result2.summary())"
   ]
  },
  {
   "cell_type": "markdown",
   "id": "334c4ee1",
   "metadata": {},
   "source": [
    "### Step-3"
   ]
  },
  {
   "cell_type": "code",
   "execution_count": 84,
   "id": "559e175e",
   "metadata": {},
   "outputs": [],
   "source": [
    "xtrain3 = xtrain2.drop('Website_Campaign_Facebook',axis=1)\n",
    "xtest3 = xtest2.drop('Website_Campaign_Facebook',axis=1)\n"
   ]
  },
  {
   "cell_type": "code",
   "execution_count": 85,
   "id": "29166e8c",
   "metadata": {},
   "outputs": [
    {
     "name": "stdout",
     "output_type": "stream",
     "text": [
      "                            OLS Regression Results                            \n",
      "==============================================================================\n",
      "Dep. Variable:            NewVolSales   R-squared:                       0.749\n",
      "Model:                            OLS   Adj. R-squared:                  0.722\n",
      "Method:                 Least Squares   F-statistic:                     27.56\n",
      "Date:                Fri, 22 Oct 2021   Prob (F-statistic):           2.73e-19\n",
      "Time:                        14:36:50   Log-Likelihood:                -674.75\n",
      "No. Observations:                  83   AIC:                             1367.\n",
      "Df Residuals:                      74   BIC:                             1389.\n",
      "Df Model:                           8                                         \n",
      "Covariance Type:            nonrobust                                         \n",
      "======================================================================================================\n",
      "                                         coef    std err          t      P>|t|      [0.025      0.975]\n",
      "------------------------------------------------------------------------------------------------------\n",
      "const                                5.44e+04   3419.501     15.909      0.000    4.76e+04    6.12e+04\n",
      "Base_Price                         -2033.9150    213.923     -9.508      0.000   -2460.166   -1607.664\n",
      "Radio                                 -0.6319      1.153     -0.548      0.585      -2.929       1.665\n",
      "InStore                               29.4533     10.814      2.724      0.008       7.907      51.000\n",
      "Discount                            7493.9302   5149.053      1.455      0.150   -2765.782    1.78e+04\n",
      "TV                                     3.3280      2.483      1.340      0.184      -1.620       8.276\n",
      "Stout                              -1701.8004    336.263     -5.061      0.000   -2371.820   -1031.781\n",
      "Website_Campaign_Twitter             321.0851    476.262      0.674      0.502    -627.887    1270.058\n",
      "Website_Campaign_Website Campaign  -1344.1612    475.454     -2.827      0.006   -2291.523    -396.799\n",
      "==============================================================================\n",
      "Omnibus:                       39.488   Durbin-Watson:                   2.200\n",
      "Prob(Omnibus):                  0.000   Jarque-Bera (JB):              130.801\n",
      "Skew:                           1.493   Prob(JB):                     3.95e-29\n",
      "Kurtosis:                       8.376   Cond. No.                     1.65e+04\n",
      "==============================================================================\n",
      "\n",
      "Notes:\n",
      "[1] Standard Errors assume that the covariance matrix of the errors is correctly specified.\n",
      "[2] The condition number is large, 1.65e+04. This might indicate that there are\n",
      "strong multicollinearity or other numerical problems.\n"
     ]
    }
   ],
   "source": [
    "model3 = sm.OLS(ytrain ,xtrain3)\n",
    "result3 = model3.fit()\n",
    "print(result3.summary())"
   ]
  },
  {
   "cell_type": "markdown",
   "id": "ee8adc59",
   "metadata": {},
   "source": [
    "### Step-4"
   ]
  },
  {
   "cell_type": "code",
   "execution_count": 88,
   "id": "314ce6a7",
   "metadata": {},
   "outputs": [
    {
     "name": "stdout",
     "output_type": "stream",
     "text": [
      "                            OLS Regression Results                            \n",
      "==============================================================================\n",
      "Dep. Variable:            NewVolSales   R-squared:                       0.748\n",
      "Model:                            OLS   Adj. R-squared:                  0.724\n",
      "Method:                 Least Squares   F-statistic:                     31.75\n",
      "Date:                Fri, 22 Oct 2021   Prob (F-statistic):           5.37e-20\n",
      "Time:                        14:40:17   Log-Likelihood:                -674.92\n",
      "No. Observations:                  83   AIC:                             1366.\n",
      "Df Residuals:                      75   BIC:                             1385.\n",
      "Df Model:                           7                                         \n",
      "Covariance Type:            nonrobust                                         \n",
      "======================================================================================================\n",
      "                                         coef    std err          t      P>|t|      [0.025      0.975]\n",
      "------------------------------------------------------------------------------------------------------\n",
      "const                               5.418e+04   3381.155     16.026      0.000    4.74e+04    6.09e+04\n",
      "Base_Price                         -2037.1320    212.843     -9.571      0.000   -2461.136   -1613.128\n",
      "InStore                               30.6900     10.526      2.916      0.005       9.721      51.659\n",
      "Discount                            6882.9590   5003.407      1.376      0.173   -3084.338    1.69e+04\n",
      "TV                                     3.6400      2.406      1.513      0.134      -1.153       8.433\n",
      "Stout                              -1690.0193    334.007     -5.060      0.000   -2355.395   -1024.644\n",
      "Website_Campaign_Twitter             277.2261    467.294      0.593      0.555    -653.672    1208.124\n",
      "Website_Campaign_Website Campaign  -1321.6505    471.461     -2.803      0.006   -2260.849    -382.452\n",
      "==============================================================================\n",
      "Omnibus:                       38.798   Durbin-Watson:                   2.193\n",
      "Prob(Omnibus):                  0.000   Jarque-Bera (JB):              129.654\n",
      "Skew:                           1.457   Prob(JB):                     7.01e-29\n",
      "Kurtosis:                       8.385   Cond. No.                     8.13e+03\n",
      "==============================================================================\n",
      "\n",
      "Notes:\n",
      "[1] Standard Errors assume that the covariance matrix of the errors is correctly specified.\n",
      "[2] The condition number is large, 8.13e+03. This might indicate that there are\n",
      "strong multicollinearity or other numerical problems.\n"
     ]
    }
   ],
   "source": [
    "xtrain4 = xtrain3.drop('Radio',axis=1)\n",
    "xtest4 = xtest3.drop('Radio',axis=1)\n",
    "model4 = sm.OLS(ytrain ,xtrain4)\n",
    "result4 = model4.fit()\n",
    "print(result4.summary())"
   ]
  },
  {
   "cell_type": "markdown",
   "id": "2f9b1316",
   "metadata": {},
   "source": [
    "### Step -5"
   ]
  },
  {
   "cell_type": "code",
   "execution_count": 90,
   "id": "69545142",
   "metadata": {},
   "outputs": [
    {
     "name": "stdout",
     "output_type": "stream",
     "text": [
      "                            OLS Regression Results                            \n",
      "==============================================================================\n",
      "Dep. Variable:            NewVolSales   R-squared:                       0.746\n",
      "Model:                            OLS   Adj. R-squared:                  0.726\n",
      "Method:                 Least Squares   F-statistic:                     37.30\n",
      "Date:                Fri, 22 Oct 2021   Prob (F-statistic):           9.94e-21\n",
      "Time:                        14:41:57   Log-Likelihood:                -675.11\n",
      "No. Observations:                  83   AIC:                             1364.\n",
      "Df Residuals:                      76   BIC:                             1381.\n",
      "Df Model:                           6                                         \n",
      "Covariance Type:            nonrobust                                         \n",
      "======================================================================================================\n",
      "                                         coef    std err          t      P>|t|      [0.025      0.975]\n",
      "------------------------------------------------------------------------------------------------------\n",
      "const                               5.453e+04   3314.977     16.451      0.000    4.79e+04    6.11e+04\n",
      "Base_Price                         -2060.8719    208.154     -9.901      0.000   -2475.447   -1646.297\n",
      "InStore                               31.2636     10.437      2.996      0.004      10.477      52.050\n",
      "Discount                            6467.5175   4932.993      1.311      0.194   -3357.389    1.63e+04\n",
      "TV                                     3.9756      2.329      1.707      0.092      -0.662       8.613\n",
      "Stout                              -1702.3555    331.934     -5.129      0.000   -2363.460   -1041.251\n",
      "Website_Campaign_Website Campaign  -1329.8066    469.247     -2.834      0.006   -2264.393    -395.220\n",
      "==============================================================================\n",
      "Omnibus:                       37.747   Durbin-Watson:                   2.208\n",
      "Prob(Omnibus):                  0.000   Jarque-Bera (JB):              124.656\n",
      "Skew:                           1.415   Prob(JB):                     8.53e-28\n",
      "Kurtosis:                       8.295   Cond. No.                     8.04e+03\n",
      "==============================================================================\n",
      "\n",
      "Notes:\n",
      "[1] Standard Errors assume that the covariance matrix of the errors is correctly specified.\n",
      "[2] The condition number is large, 8.04e+03. This might indicate that there are\n",
      "strong multicollinearity or other numerical problems.\n"
     ]
    }
   ],
   "source": [
    "xtrain5 = xtrain4.drop('Website_Campaign_Twitter',axis=1)\n",
    "xtest5 = xtest4.drop('Website_Campaign_Twitter',axis=1)\n",
    "model5 = sm.OLS(ytrain ,xtrain5)\n",
    "result5 = model5.fit()\n",
    "print(result5.summary())"
   ]
  },
  {
   "cell_type": "markdown",
   "id": "fe3b36fd",
   "metadata": {},
   "source": [
    "### Step-6"
   ]
  },
  {
   "cell_type": "code",
   "execution_count": 91,
   "id": "3185cf01",
   "metadata": {},
   "outputs": [
    {
     "name": "stdout",
     "output_type": "stream",
     "text": [
      "                            OLS Regression Results                            \n",
      "==============================================================================\n",
      "Dep. Variable:            NewVolSales   R-squared:                       0.741\n",
      "Model:                            OLS   Adj. R-squared:                  0.724\n",
      "Method:                 Least Squares   F-statistic:                     44.00\n",
      "Date:                Fri, 22 Oct 2021   Prob (F-statistic):           3.26e-21\n",
      "Time:                        14:43:12   Log-Likelihood:                -676.04\n",
      "No. Observations:                  83   AIC:                             1364.\n",
      "Df Residuals:                      77   BIC:                             1379.\n",
      "Df Model:                           5                                         \n",
      "Covariance Type:            nonrobust                                         \n",
      "======================================================================================================\n",
      "                                         coef    std err          t      P>|t|      [0.025      0.975]\n",
      "------------------------------------------------------------------------------------------------------\n",
      "const                               5.494e+04   3315.949     16.568      0.000    4.83e+04    6.15e+04\n",
      "Base_Price                         -2101.6251    206.779    -10.164      0.000   -2513.374   -1689.876\n",
      "InStore                               40.6333      7.642      5.317      0.000      25.417      55.850\n",
      "TV                                     4.4191      2.315      1.909      0.060      -0.190       9.028\n",
      "Stout                              -1709.2718    333.438     -5.126      0.000   -2373.232   -1045.311\n",
      "Website_Campaign_Website Campaign  -1366.9334    470.573     -2.905      0.005   -2303.965    -429.902\n",
      "==============================================================================\n",
      "Omnibus:                       39.810   Durbin-Watson:                   2.178\n",
      "Prob(Omnibus):                  0.000   Jarque-Bera (JB):              147.925\n",
      "Skew:                           1.449   Prob(JB):                     7.56e-33\n",
      "Kurtosis:                       8.863   Cond. No.                     5.37e+03\n",
      "==============================================================================\n",
      "\n",
      "Notes:\n",
      "[1] Standard Errors assume that the covariance matrix of the errors is correctly specified.\n",
      "[2] The condition number is large, 5.37e+03. This might indicate that there are\n",
      "strong multicollinearity or other numerical problems.\n"
     ]
    }
   ],
   "source": [
    "xtrain6 = xtrain5.drop('Discount',axis=1)\n",
    "xtest6 = xtest5.drop('Discount',axis=1)\n",
    "model6 = sm.OLS(ytrain ,xtrain6)\n",
    "result6 = model6.fit()\n",
    "print(result6.summary())"
   ]
  },
  {
   "cell_type": "markdown",
   "id": "89cf178e",
   "metadata": {},
   "source": [
    "### Step-7"
   ]
  },
  {
   "cell_type": "code",
   "execution_count": 93,
   "id": "104b44ec",
   "metadata": {},
   "outputs": [
    {
     "name": "stdout",
     "output_type": "stream",
     "text": [
      "                            OLS Regression Results                            \n",
      "==============================================================================\n",
      "Dep. Variable:            NewVolSales   R-squared:                       0.728\n",
      "Model:                            OLS   Adj. R-squared:                  0.715\n",
      "Method:                 Least Squares   F-statistic:                     52.32\n",
      "Date:                Fri, 22 Oct 2021   Prob (F-statistic):           2.43e-21\n",
      "Time:                        14:44:46   Log-Likelihood:                -677.96\n",
      "No. Observations:                  83   AIC:                             1366.\n",
      "Df Residuals:                      78   BIC:                             1378.\n",
      "Df Model:                           4                                         \n",
      "Covariance Type:            nonrobust                                         \n",
      "======================================================================================================\n",
      "                                         coef    std err          t      P>|t|      [0.025      0.975]\n",
      "------------------------------------------------------------------------------------------------------\n",
      "const                               5.568e+04   3348.274     16.631      0.000     4.9e+04    6.24e+04\n",
      "Base_Price                         -2102.0796    210.256     -9.998      0.000   -2520.666   -1683.493\n",
      "InStore                               39.7411      7.756      5.124      0.000      24.301      55.181\n",
      "Stout                              -1736.3970    338.737     -5.126      0.000   -2410.771   -1062.023\n",
      "Website_Campaign_Website Campaign  -1462.7351    475.758     -3.075      0.003   -2409.897    -515.573\n",
      "==============================================================================\n",
      "Omnibus:                       36.063   Durbin-Watson:                   2.215\n",
      "Prob(Omnibus):                  0.000   Jarque-Bera (JB):              115.619\n",
      "Skew:                           1.353   Prob(JB):                     7.83e-26\n",
      "Kurtosis:                       8.109   Cond. No.                     1.32e+03\n",
      "==============================================================================\n",
      "\n",
      "Notes:\n",
      "[1] Standard Errors assume that the covariance matrix of the errors is correctly specified.\n",
      "[2] The condition number is large, 1.32e+03. This might indicate that there are\n",
      "strong multicollinearity or other numerical problems.\n"
     ]
    }
   ],
   "source": [
    "xtrain7 = xtrain6.drop('TV',axis=1)\n",
    "xtest7 = xtest6.drop('TV',axis=1)\n",
    "model7 = sm.OLS(ytrain ,xtrain7)\n",
    "result7 = model7.fit()\n",
    "print(result7.summary())"
   ]
  },
  {
   "cell_type": "code",
   "execution_count": null,
   "id": "e2167864",
   "metadata": {},
   "outputs": [],
   "source": []
  },
  {
   "cell_type": "markdown",
   "id": "347d4f25",
   "metadata": {},
   "source": [
    "###### We finalise the model 5 \n",
    "\n"
   ]
  },
  {
   "cell_type": "code",
   "execution_count": 95,
   "id": "29d639f9",
   "metadata": {},
   "outputs": [
    {
     "data": {
      "text/plain": [
       "53    18602.43\n",
       "28    19486.87\n",
       "63    20571.20\n",
       "101   18540.71\n",
       "93    18809.82\n",
       "dtype: float64"
      ]
     },
     "execution_count": 95,
     "metadata": {},
     "output_type": "execute_result"
    }
   ],
   "source": [
    "predictions = result5.predict(xtest5)\n",
    "predictions[:5]#y values calculated by the system"
   ]
  },
  {
   "cell_type": "markdown",
   "id": "ddcc2f02",
   "metadata": {},
   "source": [
    "##### \n",
    "here we check how close is my predicted value to the actual value\n",
    "\n",
    "these are the metrics to check the accuracy\n",
    "\n",
    "we have var called mean absolute error and mean squared error"
   ]
  },
  {
   "cell_type": "code",
   "execution_count": 96,
   "id": "3028c989",
   "metadata": {},
   "outputs": [],
   "source": [
    "from sklearn.metrics import mean_absolute_error, mean_squared_error"
   ]
  },
  {
   "cell_type": "markdown",
   "id": "0c694fb9",
   "metadata": {},
   "source": [
    "##### comparing different models"
   ]
  },
  {
   "cell_type": "code",
   "execution_count": 99,
   "id": "7d6253c7",
   "metadata": {},
   "outputs": [
    {
     "data": {
      "text/plain": [
       "525.3010540801877"
      ]
     },
     "execution_count": 99,
     "metadata": {},
     "output_type": "execute_result"
    }
   ],
   "source": [
    "mean_absolute_error(ytest,predictions)\n",
    "#if we have other model\n",
    "#we chose the model with less mean abs error"
   ]
  },
  {
   "cell_type": "code",
   "execution_count": 100,
   "id": "0b33521d",
   "metadata": {},
   "outputs": [
    {
     "data": {
      "text/plain": [
       "422285.27894019196"
      ]
     },
     "execution_count": 100,
     "metadata": {},
     "output_type": "execute_result"
    }
   ],
   "source": [
    "mean_squared_error(ytest,predictions)"
   ]
  },
  {
   "cell_type": "code",
   "execution_count": 101,
   "id": "cc1d8054",
   "metadata": {},
   "outputs": [
    {
     "data": {
      "text/plain": [
       "649.834808963164"
      ]
     },
     "execution_count": 101,
     "metadata": {},
     "output_type": "execute_result"
    }
   ],
   "source": [
    "mean_squared_error(ytest,predictions,squared=False)"
   ]
  },
  {
   "cell_type": "markdown",
   "id": "1049f9a2",
   "metadata": {},
   "source": [
    "### Assumptions"
   ]
  },
  {
   "cell_type": "code",
   "execution_count": null,
   "id": "af06673e",
   "metadata": {},
   "outputs": [],
   "source": [
    "#we need to check it follows the assumptions"
   ]
  },
  {
   "cell_type": "code",
   "execution_count": 102,
   "id": "fec6bbbe",
   "metadata": {},
   "outputs": [],
   "source": [
    "#Assumption:1 is LINEARITY\n",
    "#We check it by using scatter plot\n"
   ]
  },
  {
   "cell_type": "code",
   "execution_count": 104,
   "id": "d5d4853d",
   "metadata": {},
   "outputs": [
    {
     "data": {
      "text/html": [
       "<div>\n",
       "<style scoped>\n",
       "    .dataframe tbody tr th:only-of-type {\n",
       "        vertical-align: middle;\n",
       "    }\n",
       "\n",
       "    .dataframe tbody tr th {\n",
       "        vertical-align: top;\n",
       "    }\n",
       "\n",
       "    .dataframe thead th {\n",
       "        text-align: right;\n",
       "    }\n",
       "</style>\n",
       "<table border=\"1\" class=\"dataframe\">\n",
       "  <thead>\n",
       "    <tr style=\"text-align: right;\">\n",
       "      <th></th>\n",
       "      <th>Actual</th>\n",
       "      <th>Predicted</th>\n",
       "    </tr>\n",
       "  </thead>\n",
       "  <tbody>\n",
       "    <tr>\n",
       "      <th>53</th>\n",
       "      <td>18667</td>\n",
       "      <td>18602.43</td>\n",
       "    </tr>\n",
       "    <tr>\n",
       "      <th>28</th>\n",
       "      <td>19702</td>\n",
       "      <td>19486.87</td>\n",
       "    </tr>\n",
       "    <tr>\n",
       "      <th>63</th>\n",
       "      <td>19756</td>\n",
       "      <td>20571.20</td>\n",
       "    </tr>\n",
       "    <tr>\n",
       "      <th>101</th>\n",
       "      <td>18198</td>\n",
       "      <td>18540.71</td>\n",
       "    </tr>\n",
       "    <tr>\n",
       "      <th>93</th>\n",
       "      <td>18941</td>\n",
       "      <td>18809.82</td>\n",
       "    </tr>\n",
       "  </tbody>\n",
       "</table>\n",
       "</div>"
      ],
      "text/plain": [
       "     Actual  Predicted\n",
       "53    18667   18602.43\n",
       "28    19702   19486.87\n",
       "63    19756   20571.20\n",
       "101   18198   18540.71\n",
       "93    18941   18809.82"
      ]
     },
     "execution_count": 104,
     "metadata": {},
     "output_type": "execute_result"
    }
   ],
   "source": [
    "df_results= pd.DataFrame({'Actual':ytest,'Predicted': predictions})\n",
    "df_results.head()"
   ]
  },
  {
   "cell_type": "code",
   "execution_count": 105,
   "id": "f8687ba4",
   "metadata": {},
   "outputs": [
    {
     "data": {
      "text/html": [
       "<div>\n",
       "<style scoped>\n",
       "    .dataframe tbody tr th:only-of-type {\n",
       "        vertical-align: middle;\n",
       "    }\n",
       "\n",
       "    .dataframe tbody tr th {\n",
       "        vertical-align: top;\n",
       "    }\n",
       "\n",
       "    .dataframe thead th {\n",
       "        text-align: right;\n",
       "    }\n",
       "</style>\n",
       "<table border=\"1\" class=\"dataframe\">\n",
       "  <thead>\n",
       "    <tr style=\"text-align: right;\">\n",
       "      <th></th>\n",
       "      <th>Actual</th>\n",
       "      <th>Predicted</th>\n",
       "      <th>Residuals</th>\n",
       "    </tr>\n",
       "  </thead>\n",
       "  <tbody>\n",
       "    <tr>\n",
       "      <th>53</th>\n",
       "      <td>18667</td>\n",
       "      <td>18602.43</td>\n",
       "      <td>64.57</td>\n",
       "    </tr>\n",
       "    <tr>\n",
       "      <th>28</th>\n",
       "      <td>19702</td>\n",
       "      <td>19486.87</td>\n",
       "      <td>215.13</td>\n",
       "    </tr>\n",
       "    <tr>\n",
       "      <th>63</th>\n",
       "      <td>19756</td>\n",
       "      <td>20571.20</td>\n",
       "      <td>815.20</td>\n",
       "    </tr>\n",
       "    <tr>\n",
       "      <th>101</th>\n",
       "      <td>18198</td>\n",
       "      <td>18540.71</td>\n",
       "      <td>342.71</td>\n",
       "    </tr>\n",
       "    <tr>\n",
       "      <th>93</th>\n",
       "      <td>18941</td>\n",
       "      <td>18809.82</td>\n",
       "      <td>131.18</td>\n",
       "    </tr>\n",
       "  </tbody>\n",
       "</table>\n",
       "</div>"
      ],
      "text/plain": [
       "     Actual  Predicted  Residuals\n",
       "53    18667   18602.43      64.57\n",
       "28    19702   19486.87     215.13\n",
       "63    19756   20571.20     815.20\n",
       "101   18198   18540.71     342.71\n",
       "93    18941   18809.82     131.18"
      ]
     },
     "execution_count": 105,
     "metadata": {},
     "output_type": "execute_result"
    }
   ],
   "source": [
    "df_results['Residuals']= abs(df_results['Actual']-df_results['Predicted'])\n",
    "df_results.head()"
   ]
  },
  {
   "cell_type": "markdown",
   "id": "c19b86e8",
   "metadata": {},
   "source": [
    "### lmplot() \n",
    "\n",
    "Linear model plot "
   ]
  },
  {
   "cell_type": "code",
   "execution_count": 106,
   "id": "e51d5d25",
   "metadata": {},
   "outputs": [
    {
     "data": {
      "text/plain": [
       "Text(0.5, 1.0, 'Actual vs Predicted')"
      ]
     },
     "execution_count": 106,
     "metadata": {},
     "output_type": "execute_result"
    },
    {
     "data": {
      "image/png": "[encoded data removed]",
      "text/plain": [
       "<Figure size 360x360 with 1 Axes>"
      ]
     },
     "metadata": {
      "needs_background": "light"
     },
     "output_type": "display_data"
    }
   ],
   "source": [
    "sns.lmplot(x='Actual',y='Predicted',data=df_results,fit_reg=False)\n",
    "plt.title('Actual vs Predicted')"
   ]
  },
  {
   "cell_type": "code",
   "execution_count": 107,
   "id": "11f63b1d",
   "metadata": {},
   "outputs": [],
   "source": [
    "#Assumption:2 Error terms-Normal\n",
    "\n",
    "#so we plot the quantile quantile plot"
   ]
  },
  {
   "cell_type": "code",
   "execution_count": 108,
   "id": "dc422eae",
   "metadata": {},
   "outputs": [],
   "source": [
    "residual= result5.resid"
   ]
  },
  {
   "cell_type": "code",
   "execution_count": 111,
   "id": "83f7e8b8",
   "metadata": {
    "scrolled": true
   },
   "outputs": [
    {
     "data": {
      "image/png": "[encoded data removed]",
      "text/plain": [
       "<Figure size 432x288 with 1 Axes>"
      ]
     },
     "execution_count": 111,
     "metadata": {},
     "output_type": "execute_result"
    },
    {
     "data": {
      "image/png": "[encoded data removed]",
      "text/plain": [
       "<Figure size 432x288 with 1 Axes>"
      ]
     },
     "metadata": {
      "needs_background": "light"
     },
     "output_type": "display_data"
    }
   ],
   "source": [
    "sm.qqplot(residual,fit=True,line='45')"
   ]
  },
  {
   "cell_type": "code",
   "execution_count": null,
   "id": "791b1ec7",
   "metadata": {},
   "outputs": [],
   "source": []
  },
  {
   "cell_type": "code",
   "execution_count": 112,
   "id": "b1fae52c",
   "metadata": {},
   "outputs": [],
   "source": [
    "#Assumption:3 no multicollinearity among the features\n",
    "#VIF varience inflation factor\n",
    "#captures measure of correlation of the features\n",
    "#this value must be less than 5"
   ]
  },
  {
   "cell_type": "code",
   "execution_count": 113,
   "id": "853bf181",
   "metadata": {},
   "outputs": [
    {
     "name": "stdout",
     "output_type": "stream",
     "text": [
      "Requirement already satisfied: patsy in c:\\users\\tsharmili\\anaconda3\\lib\\site-packages (0.5.1)\n",
      "Requirement already satisfied: six in c:\\users\\tsharmili\\anaconda3\\lib\\site-packages (from patsy) (1.15.0)\n",
      "Requirement already satisfied: numpy>=1.4 in c:\\users\\tsharmili\\anaconda3\\lib\\site-packages (from patsy) (1.20.1)\n"
     ]
    }
   ],
   "source": [
    "!pip3 install patsy"
   ]
  },
  {
   "cell_type": "code",
   "execution_count": 114,
   "id": "a637f8a3",
   "metadata": {},
   "outputs": [],
   "source": [
    "from patsy import dmatrices"
   ]
  },
  {
   "cell_type": "code",
   "execution_count": 128,
   "id": "f9848615",
   "metadata": {},
   "outputs": [],
   "source": [
    "#Y,X = dmatrices('NewVolSales~ Base_Price+InStore+TV+Discount+Stout+Website_Campaign_Website_Campaign',data=data ,return_type='dataframe')"
   ]
  },
  {
   "cell_type": "code",
   "execution_count": null,
   "id": "c859b726",
   "metadata": {},
   "outputs": [],
   "source": []
  },
  {
   "cell_type": "code",
   "execution_count": 115,
   "id": "b925da4e",
   "metadata": {},
   "outputs": [],
   "source": [
    "from statsmodels.stats.outliers_influence import variance_inflation_factor"
   ]
  },
  {
   "cell_type": "code",
   "execution_count": 116,
   "id": "59c8dcaf",
   "metadata": {},
   "outputs": [],
   "source": [
    "vif = pd.DataFrame()"
   ]
  },
  {
   "cell_type": "code",
   "execution_count": 121,
   "id": "c7897b53",
   "metadata": {},
   "outputs": [],
   "source": [
    "#vif['VIF factor'] = [variance_inflation_factor(X.values,i) for i in range(X.shape[1])]"
   ]
  },
  {
   "cell_type": "code",
   "execution_count": null,
   "id": "53bce617",
   "metadata": {},
   "outputs": [],
   "source": []
  },
  {
   "cell_type": "code",
   "execution_count": null,
   "id": "7e405a22",
   "metadata": {},
   "outputs": [],
   "source": []
  },
  {
   "cell_type": "markdown",
   "id": "d093debc",
   "metadata": {},
   "source": [
    "# This is the final result\n",
    "\n",
    "We can directly do this step\n",
    "\n",
    "But doing all the above steps we can explain all the steps"
   ]
  },
  {
   "cell_type": "code",
   "execution_count": 131,
   "id": "361705e3",
   "metadata": {},
   "outputs": [],
   "source": [
    "from sklearn.linear_model import LinearRegression"
   ]
  },
  {
   "cell_type": "code",
   "execution_count": 132,
   "id": "77bb6454",
   "metadata": {},
   "outputs": [],
   "source": [
    "linreg= LinearRegression().fit(xtrain5,ytrain)"
   ]
  },
  {
   "cell_type": "code",
   "execution_count": 133,
   "id": "4580ed8e",
   "metadata": {},
   "outputs": [],
   "source": [
    "linreg_prediction= linreg.predict(xtest5)"
   ]
  },
  {
   "cell_type": "code",
   "execution_count": 134,
   "id": "df81bbef",
   "metadata": {},
   "outputs": [
    {
     "data": {
      "text/plain": [
       "array([ 0.00000000e+00, -2.06087191e+03,  3.12636160e+01,  6.46751748e+03,\n",
       "        3.97555885e+00, -1.70235554e+03, -1.32980665e+03])"
      ]
     },
     "execution_count": 134,
     "metadata": {},
     "output_type": "execute_result"
    }
   ],
   "source": [
    "linreg.coef_"
   ]
  },
  {
   "cell_type": "code",
   "execution_count": 135,
   "id": "3e828d7e",
   "metadata": {},
   "outputs": [
    {
     "data": {
      "text/plain": [
       "525.3010540801436"
      ]
     },
     "execution_count": 135,
     "metadata": {},
     "output_type": "execute_result"
    }
   ],
   "source": [
    "mean_absolute_error(ytest,linreg_prediction)"
   ]
  },
  {
   "cell_type": "code",
   "execution_count": 136,
   "id": "668d886d",
   "metadata": {},
   "outputs": [
    {
     "data": {
      "text/plain": [
       "649.8348089630836"
      ]
     },
     "execution_count": 136,
     "metadata": {},
     "output_type": "execute_result"
    }
   ],
   "source": [
    "mean_squared_error(ytest,linreg_prediction, squared = False)"
   ]
  },
  {
   "cell_type": "markdown",
   "id": "ca1049aa",
   "metadata": {},
   "source": [
    "# SGD Regressor\n",
    "\n",
    "Gradient Decent"
   ]
  },
  {
   "cell_type": "code",
   "execution_count": 137,
   "id": "5aca9fa6",
   "metadata": {},
   "outputs": [],
   "source": [
    "from sklearn.linear_model import SGDRegressor "
   ]
  },
  {
   "cell_type": "code",
   "execution_count": 138,
   "id": "d8c0af15",
   "metadata": {},
   "outputs": [],
   "source": [
    "sgdr = SGDRegressor().fit(xtrain,ytrain)"
   ]
  },
  {
   "cell_type": "code",
   "execution_count": 140,
   "id": "c4dc370d",
   "metadata": {},
   "outputs": [
    {
     "data": {
      "text/plain": [
       "array([-4.90631089e+09, -4.09113976e+10,  3.36609427e+11,  5.41633958e+11,\n",
       "        1.73926990e+09,  1.20858936e+11,  8.93794916e+09,  7.41520004e+09,\n",
       "       -7.42834888e+09,  3.73351435e+10,  4.39181422e+10])"
      ]
     },
     "execution_count": 140,
     "metadata": {},
     "output_type": "execute_result"
    }
   ],
   "source": [
    "sgdr.coef_"
   ]
  },
  {
   "cell_type": "code",
   "execution_count": 141,
   "id": "772202ed",
   "metadata": {},
   "outputs": [],
   "source": [
    "sgdr_pred= sgdr.predict(xtest)"
   ]
  },
  {
   "cell_type": "code",
   "execution_count": 142,
   "id": "71a4b683",
   "metadata": {},
   "outputs": [
    {
     "data": {
      "text/plain": [
       "121290372677999.23"
      ]
     },
     "execution_count": 142,
     "metadata": {},
     "output_type": "execute_result"
    }
   ],
   "source": [
    "mean_absolute_error(ytest,sgdr_pred)"
   ]
  },
  {
   "cell_type": "code",
   "execution_count": 143,
   "id": "1bfce554",
   "metadata": {},
   "outputs": [
    {
     "data": {
      "text/plain": [
       "124829821310481.16"
      ]
     },
     "execution_count": 143,
     "metadata": {},
     "output_type": "execute_result"
    }
   ],
   "source": [
    "mean_squared_error(ytest,sgdr_pred,squared=False)"
   ]
  },
  {
   "cell_type": "code",
   "execution_count": null,
   "id": "a0127d4e",
   "metadata": {},
   "outputs": [],
   "source": []
  },
  {
   "cell_type": "code",
   "execution_count": 144,
   "id": "c367cf36",
   "metadata": {},
   "outputs": [],
   "source": [
    "# If the accuracy of the data is above 90% then it is the case of overfitting"
   ]
  },
  {
   "cell_type": "code",
   "execution_count": null,
   "id": "c1f85886",
   "metadata": {},
   "outputs": [],
   "source": []
  },
  {
   "cell_type": "markdown",
   "id": "26ffdf94",
   "metadata": {},
   "source": [
    "# Regularization"
   ]
  },
  {
   "cell_type": "code",
   "execution_count": 145,
   "id": "14f33766",
   "metadata": {},
   "outputs": [],
   "source": [
    "from sklearn.linear_model import Ridge"
   ]
  },
  {
   "cell_type": "code",
   "execution_count": 146,
   "id": "69abeb62",
   "metadata": {},
   "outputs": [],
   "source": [
    "ridge_reg= Ridge().fit(xtrain5, ytrain)"
   ]
  },
  {
   "cell_type": "code",
   "execution_count": 147,
   "id": "b3d34c7d",
   "metadata": {},
   "outputs": [
    {
     "data": {
      "text/plain": [
       "array([    0.        , -1982.89249104,    41.08477852,   211.50329488,\n",
       "           4.64617218, -1559.68233431, -1108.9982144 ])"
      ]
     },
     "execution_count": 147,
     "metadata": {},
     "output_type": "execute_result"
    }
   ],
   "source": [
    "ridge_reg.coef_"
   ]
  },
  {
   "cell_type": "code",
   "execution_count": 148,
   "id": "bca3cf2a",
   "metadata": {},
   "outputs": [],
   "source": [
    "ridge_pred = ridge_reg.predict(xtest5)"
   ]
  },
  {
   "cell_type": "code",
   "execution_count": 149,
   "id": "6a81a780",
   "metadata": {},
   "outputs": [
    {
     "data": {
      "text/plain": [
       "499.36102463597456"
      ]
     },
     "execution_count": 149,
     "metadata": {},
     "output_type": "execute_result"
    }
   ],
   "source": [
    "mean_absolute_error(ytest, ridge_pred)"
   ]
  },
  {
   "cell_type": "code",
   "execution_count": 150,
   "id": "aa163d23",
   "metadata": {},
   "outputs": [
    {
     "data": {
      "text/plain": [
       "604.1446126929981"
      ]
     },
     "execution_count": 150,
     "metadata": {},
     "output_type": "execute_result"
    }
   ],
   "source": [
    "mean_squared_error(ytest, ridge_pred,squared= False)"
   ]
  },
  {
   "cell_type": "code",
   "execution_count": 161,
   "id": "a724445a",
   "metadata": {},
   "outputs": [
    {
     "data": {
      "text/plain": [
       "1.0"
      ]
     },
     "execution_count": 161,
     "metadata": {},
     "output_type": "execute_result"
    }
   ],
   "source": [
    "ridge_reg.alpha"
   ]
  },
  {
   "cell_type": "markdown",
   "id": "86384c69",
   "metadata": {},
   "source": [
    "# \n",
    "\n",
    "to find for different values of alpha\n",
    "\n",
    "to find out the model that is best then we apply the following\n",
    "\n"
   ]
  },
  {
   "cell_type": "markdown",
   "id": "b8f03839",
   "metadata": {},
   "source": [
    "# Cross value score"
   ]
  },
  {
   "cell_type": "code",
   "execution_count": 156,
   "id": "71710582",
   "metadata": {},
   "outputs": [],
   "source": [
    "from sklearn.model_selection import cross_val_score"
   ]
  },
  {
   "cell_type": "code",
   "execution_count": 165,
   "id": "f9f2f935",
   "metadata": {},
   "outputs": [],
   "source": [
    "lambda_space=[1,0.001,0.1,1.5,10]\n",
    "\n",
    "#the ideal alpha values are 0 to 0.1"
   ]
  },
  {
   "cell_type": "code",
   "execution_count": 163,
   "id": "fbeda42f",
   "metadata": {},
   "outputs": [],
   "source": [
    "ridge_score=[]\n",
    "for i in lambda_space:\n",
    "    val = np.mean(cross_val_score(Ridge(alpha=i), xtrain, ytrain,cv=5))\n",
    "    ridge_score.append(val)\n",
    "    \n",
    "    #here we take cv=5 times the code is run"
   ]
  },
  {
   "cell_type": "code",
   "execution_count": 164,
   "id": "13e63ff6",
   "metadata": {},
   "outputs": [
    {
     "data": {
      "text/plain": [
       "[0.6170692821812848,\n",
       " 0.626104832889245,\n",
       " 0.6152457192399812,\n",
       " 0.6146827244466995,\n",
       " 0.4928433200555643]"
      ]
     },
     "execution_count": 164,
     "metadata": {},
     "output_type": "execute_result"
    }
   ],
   "source": [
    "ridge_score"
   ]
  },
  {
   "cell_type": "markdown",
   "id": "acb2c7ec",
   "metadata": {},
   "source": [
    "## Lasso"
   ]
  },
  {
   "cell_type": "code",
   "execution_count": 166,
   "id": "4ca5e85f",
   "metadata": {},
   "outputs": [],
   "source": [
    "from sklearn.linear_model import Lasso "
   ]
  },
  {
   "cell_type": "code",
   "execution_count": 167,
   "id": "b99f9ec2",
   "metadata": {},
   "outputs": [],
   "source": [
    "lasso_reg = Lasso().fit(xtrain, ytrain)"
   ]
  },
  {
   "cell_type": "code",
   "execution_count": 168,
   "id": "8f18e57f",
   "metadata": {},
   "outputs": [],
   "source": [
    "lasso_pred = lasso_reg.predict(xtest)"
   ]
  },
  {
   "cell_type": "code",
   "execution_count": 169,
   "id": "1d5b296f",
   "metadata": {},
   "outputs": [
    {
     "data": {
      "text/plain": [
       "617.3508409496737"
      ]
     },
     "execution_count": 169,
     "metadata": {},
     "output_type": "execute_result"
    }
   ],
   "source": [
    "mean_squared_error(ytest, lasso_pred,squared=False)"
   ]
  },
  {
   "cell_type": "code",
   "execution_count": 170,
   "id": "70182611",
   "metadata": {},
   "outputs": [
    {
     "data": {
      "text/plain": [
       "1.0"
      ]
     },
     "execution_count": 170,
     "metadata": {},
     "output_type": "execute_result"
    }
   ],
   "source": [
    "lasso_reg.alpha"
   ]
  },
  {
   "cell_type": "code",
   "execution_count": 186,
   "id": "0029ef7a",
   "metadata": {},
   "outputs": [],
   "source": [
    "lasso_score=[]\n",
    "for i in lambda_space:\n",
    "    val = np.mean(cross_val_score(Lasso(alpha=i), xtrain, ytrain,cv=5))\n",
    "    lasso_score.append(val)"
   ]
  },
  {
   "cell_type": "code",
   "execution_count": 172,
   "id": "12ea5e4a",
   "metadata": {},
   "outputs": [
    {
     "data": {
      "text/plain": [
       "[0.6170692821812848,\n",
       " 0.626104832889245,\n",
       " 0.6152457192399812,\n",
       " 0.6146827244466995,\n",
       " 0.4928433200555643]"
      ]
     },
     "execution_count": 172,
     "metadata": {},
     "output_type": "execute_result"
    }
   ],
   "source": [
    "lasso_score"
   ]
  },
  {
   "cell_type": "code",
   "execution_count": null,
   "id": "be2f802d",
   "metadata": {},
   "outputs": [],
   "source": []
  },
  {
   "cell_type": "markdown",
   "id": "ad15b62f",
   "metadata": {},
   "source": [
    "# Elastic Net"
   ]
  },
  {
   "cell_type": "code",
   "execution_count": 173,
   "id": "09d3ecd6",
   "metadata": {},
   "outputs": [],
   "source": [
    "from sklearn.linear_model import ElasticNet"
   ]
  },
  {
   "cell_type": "code",
   "execution_count": 174,
   "id": "5311f26b",
   "metadata": {},
   "outputs": [],
   "source": [
    "enet = ElasticNet().fit(xtrain,ytrain)"
   ]
  },
  {
   "cell_type": "code",
   "execution_count": 175,
   "id": "33798b5f",
   "metadata": {},
   "outputs": [],
   "source": [
    "pred = enet.predict(xtest)"
   ]
  },
  {
   "cell_type": "code",
   "execution_count": 176,
   "id": "93b95efa",
   "metadata": {},
   "outputs": [
    {
     "data": {
      "text/plain": [
       "951.1623649625636"
      ]
     },
     "execution_count": 176,
     "metadata": {},
     "output_type": "execute_result"
    }
   ],
   "source": [
    "mean_squared_error(ytest,pred,squared=False)"
   ]
  },
  {
   "cell_type": "code",
   "execution_count": 177,
   "id": "09402cbe",
   "metadata": {},
   "outputs": [],
   "source": [
    "## li ratio in ElasticNet\n",
    "## [0 and 1]"
   ]
  },
  {
   "cell_type": "code",
   "execution_count": 178,
   "id": "ecc1fc0c",
   "metadata": {},
   "outputs": [
    {
     "data": {
      "text/plain": [
       "0.5"
      ]
     },
     "execution_count": 178,
     "metadata": {},
     "output_type": "execute_result"
    }
   ],
   "source": [
    "enet.l1_ratio"
   ]
  },
  {
   "cell_type": "code",
   "execution_count": 179,
   "id": "ef88d05f",
   "metadata": {},
   "outputs": [],
   "source": [
    "enet_l1=[0.01,0.05,0.7,1]"
   ]
  },
  {
   "cell_type": "code",
   "execution_count": 184,
   "id": "b49e3e65",
   "metadata": {},
   "outputs": [],
   "source": [
    "enet_score=[]\n",
    "for i in enet_l1:\n",
    "    val = np.mean(cross_val_score(ElasticNet(l1_ratio=i), xtrain, ytrain,cv=5))\n",
    "    enet_score.append(val)"
   ]
  },
  {
   "cell_type": "code",
   "execution_count": 185,
   "id": "de25d5f5",
   "metadata": {},
   "outputs": [
    {
     "data": {
      "text/plain": [
       "[0.18287496581600565,\n",
       " 0.18855376162819576,\n",
       " 0.38112603263126904,\n",
       " 0.6170648287449725]"
      ]
     },
     "execution_count": 185,
     "metadata": {},
     "output_type": "execute_result"
    }
   ],
   "source": [
    "enet_score"
   ]
  }
 ],
 "metadata": {
  "kernelspec": {
   "display_name": "Python 3",
   "language": "python",
   "name": "python3"
  },
  "language_info": {
   "codemirror_mode": {
    "name": "ipython",
    "version": 3
   },
   "file_extension": ".py",
   "mimetype": "text/x-python",
   "name": "python",
   "nbconvert_exporter": "python",
   "pygments_lexer": "ipython3",
   "version": "3.8.8"
  }
 },
 "nbformat": 4,
 "nbformat_minor": 5
}
