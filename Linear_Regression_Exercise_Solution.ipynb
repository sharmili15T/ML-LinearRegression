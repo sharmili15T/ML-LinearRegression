{
 "cells": [
  {
   "cell_type": "code",
   "execution_count": 1,
   "metadata": {},
   "outputs": [],
   "source": [
    "#Import libraries \n",
    "\n",
    "import pandas as pd\n",
    "import numpy as np\n",
    "import matplotlib.pyplot as plt\n",
    "import seaborn as sns \n",
    "import statsmodels.api as sm\n",
    "from sklearn.model_selection import train_test_split\n",
    "from sklearn.metrics import r2_score, mean_squared_error,mean_absolute_error"
   ]
  },
  {
   "cell_type": "code",
   "execution_count": 2,
   "metadata": {},
   "outputs": [
    {
     "data": {
      "text/html": [
       "<div>\n",
       "<style scoped>\n",
       "    .dataframe tbody tr th:only-of-type {\n",
       "        vertical-align: middle;\n",
       "    }\n",
       "\n",
       "    .dataframe tbody tr th {\n",
       "        vertical-align: top;\n",
       "    }\n",
       "\n",
       "    .dataframe thead th {\n",
       "        text-align: right;\n",
       "    }\n",
       "</style>\n",
       "<table border=\"1\" class=\"dataframe\">\n",
       "  <thead>\n",
       "    <tr style=\"text-align: right;\">\n",
       "      <th></th>\n",
       "      <th>CRIM</th>\n",
       "      <th>INDUS</th>\n",
       "      <th>NOX</th>\n",
       "      <th>RM</th>\n",
       "      <th>AGE</th>\n",
       "      <th>DIS</th>\n",
       "      <th>TAX</th>\n",
       "      <th>PT</th>\n",
       "      <th>B</th>\n",
       "      <th>MV</th>\n",
       "    </tr>\n",
       "  </thead>\n",
       "  <tbody>\n",
       "    <tr>\n",
       "      <th>0</th>\n",
       "      <td>0.00632</td>\n",
       "      <td>2.31</td>\n",
       "      <td>0.538</td>\n",
       "      <td>6.575</td>\n",
       "      <td>65.199997</td>\n",
       "      <td>4.0900</td>\n",
       "      <td>296</td>\n",
       "      <td>15.300000</td>\n",
       "      <td>396.899994</td>\n",
       "      <td>24.000000</td>\n",
       "    </tr>\n",
       "    <tr>\n",
       "      <th>1</th>\n",
       "      <td>0.02731</td>\n",
       "      <td>7.07</td>\n",
       "      <td>0.469</td>\n",
       "      <td>6.421</td>\n",
       "      <td>78.900002</td>\n",
       "      <td>4.9671</td>\n",
       "      <td>242</td>\n",
       "      <td>17.799999</td>\n",
       "      <td>396.899994</td>\n",
       "      <td>21.600000</td>\n",
       "    </tr>\n",
       "    <tr>\n",
       "      <th>2</th>\n",
       "      <td>0.02729</td>\n",
       "      <td>7.07</td>\n",
       "      <td>0.469</td>\n",
       "      <td>7.185</td>\n",
       "      <td>61.099998</td>\n",
       "      <td>4.9671</td>\n",
       "      <td>242</td>\n",
       "      <td>17.799999</td>\n",
       "      <td>392.829987</td>\n",
       "      <td>34.700001</td>\n",
       "    </tr>\n",
       "    <tr>\n",
       "      <th>3</th>\n",
       "      <td>0.03237</td>\n",
       "      <td>2.18</td>\n",
       "      <td>0.458</td>\n",
       "      <td>6.998</td>\n",
       "      <td>45.799999</td>\n",
       "      <td>6.0622</td>\n",
       "      <td>222</td>\n",
       "      <td>18.700001</td>\n",
       "      <td>394.630005</td>\n",
       "      <td>33.400002</td>\n",
       "    </tr>\n",
       "    <tr>\n",
       "      <th>4</th>\n",
       "      <td>0.06905</td>\n",
       "      <td>2.18</td>\n",
       "      <td>0.458</td>\n",
       "      <td>7.147</td>\n",
       "      <td>54.200001</td>\n",
       "      <td>6.0622</td>\n",
       "      <td>222</td>\n",
       "      <td>18.700001</td>\n",
       "      <td>396.899994</td>\n",
       "      <td>36.200001</td>\n",
       "    </tr>\n",
       "  </tbody>\n",
       "</table>\n",
       "</div>"
      ],
      "text/plain": [
       "      CRIM  INDUS    NOX     RM        AGE     DIS  TAX         PT  \\\n",
       "0  0.00632   2.31  0.538  6.575  65.199997  4.0900  296  15.300000   \n",
       "1  0.02731   7.07  0.469  6.421  78.900002  4.9671  242  17.799999   \n",
       "2  0.02729   7.07  0.469  7.185  61.099998  4.9671  242  17.799999   \n",
       "3  0.03237   2.18  0.458  6.998  45.799999  6.0622  222  18.700001   \n",
       "4  0.06905   2.18  0.458  7.147  54.200001  6.0622  222  18.700001   \n",
       "\n",
       "            B         MV  \n",
       "0  396.899994  24.000000  \n",
       "1  396.899994  21.600000  \n",
       "2  392.829987  34.700001  \n",
       "3  394.630005  33.400002  \n",
       "4  396.899994  36.200001  "
      ]
     },
     "execution_count": 2,
     "metadata": {},
     "output_type": "execute_result"
    }
   ],
   "source": [
    "# load file into pandas and preview data\n",
    "my_df = pd.read_csv(\"boston.csv\")\n",
    "my_df.head()"
   ]
  },
  {
   "cell_type": "markdown",
   "metadata": {},
   "source": [
    "Given dataset info:\n",
    "\n",
    "1. CRIM per capita crime rate by town\n",
    "2. INDUS proportion of non-retail business acres per town\n",
    "3. NOX nitric oxides concentration (parts per 10 million)\n",
    "4. RM average number of rooms per dwelling\n",
    "5. AGE proportion of owner-occupied units built prior to 1940\n",
    "6. DIS weighted distances to five Boston employment centres\n",
    "7. TAX full-value property-tax rate per 10,000 dollars\n",
    "8. PT pupil-teacher ratio by town\n",
    "9. B 1000(Bk - 0.63)^2 where Bk is the proportion of blacks by town\n",
    "10. MV Median value of owner-occupied homes in $1000's"
   ]
  },
  {
   "cell_type": "code",
   "execution_count": 3,
   "metadata": {},
   "outputs": [
    {
     "data": {
      "text/plain": [
       "(506, 10)"
      ]
     },
     "execution_count": 3,
     "metadata": {},
     "output_type": "execute_result"
    }
   ],
   "source": [
    "#Check shape \n",
    "my_df.shape"
   ]
  },
  {
   "cell_type": "code",
   "execution_count": 4,
   "metadata": {},
   "outputs": [
    {
     "name": "stdout",
     "output_type": "stream",
     "text": [
      "<class 'pandas.core.frame.DataFrame'>\n",
      "RangeIndex: 506 entries, 0 to 505\n",
      "Data columns (total 10 columns):\n",
      "CRIM     506 non-null float64\n",
      "INDUS    506 non-null float64\n",
      "NOX      506 non-null float64\n",
      "RM       506 non-null float64\n",
      "AGE      506 non-null float64\n",
      "DIS      506 non-null float64\n",
      "TAX      506 non-null int64\n",
      "PT       506 non-null float64\n",
      "B        506 non-null float64\n",
      "MV       506 non-null float64\n",
      "dtypes: float64(9), int64(1)\n",
      "memory usage: 39.6 KB\n"
     ]
    }
   ],
   "source": [
    "# check info\n",
    "\n",
    "my_df.info()"
   ]
  },
  {
   "cell_type": "code",
   "execution_count": 5,
   "metadata": {},
   "outputs": [
    {
     "data": {
      "text/plain": [
       "CRIM     0\n",
       "INDUS    0\n",
       "NOX      0\n",
       "RM       0\n",
       "AGE      0\n",
       "DIS      0\n",
       "TAX      0\n",
       "PT       0\n",
       "B        0\n",
       "MV       0\n",
       "dtype: int64"
      ]
     },
     "execution_count": 5,
     "metadata": {},
     "output_type": "execute_result"
    }
   ],
   "source": [
    "# check for null values\n",
    "my_df.isnull().sum()"
   ]
  },
  {
   "cell_type": "code",
   "execution_count": 6,
   "metadata": {},
   "outputs": [
    {
     "data": {
      "image/png": "[encoded data removed]",
      "text/plain": [
       "<Figure size 720x720 with 2 Axes>"
      ]
     },
     "metadata": {},
     "output_type": "display_data"
    }
   ],
   "source": [
    "## plot correlation heatmap and note down observations\n",
    "plt.figure(figsize=(10,10))\n",
    "sns.heatmap(my_df.corr(),annot=True)\n",
    "plt.show()"
   ]
  },
  {
   "cell_type": "markdown",
   "metadata": {},
   "source": [
    "From the graph above we can see that:\n",
    "1. MV has a strong correlation with RM\n",
    "2. NOX and DIS and negatively correlated with -0.77\n",
    "3. AGE and DIS are negatively correlated with -0.75\n",
    "4. INDUS and DIS are negatively correlated with -0.71"
   ]
  },
  {
   "cell_type": "code",
   "execution_count": 7,
   "metadata": {},
   "outputs": [],
   "source": [
    "# Import train/test class from sklearn module to split data into training and testing\n",
    "# Using 80% of data as the training set and 20% as the test set\n",
    "# Since MV (median home value) is the response variable of interest, dropping 'MV' from the train set and putting 'MV'\n",
    "# as the test variable\n",
    "\n",
    "X_train, X_test, Y_train, Y_test = train_test_split(my_df.drop(\"MV\", axis=1), my_df['MV'], test_size = 0.2,\\\n",
    "                                                    random_state=112)\n",
    "\n",
    "# Adding constant term as we are using statsmodel\n",
    "X_train = sm.add_constant(X_train)\n",
    "X_test = sm.add_constant(X_test)\n",
    "my_model = sm.OLS(Y_train, X_train).fit()"
   ]
  },
  {
   "cell_type": "code",
   "execution_count": 8,
   "metadata": {},
   "outputs": [
    {
     "name": "stdout",
     "output_type": "stream",
     "text": [
      "                            OLS Regression Results                            \n",
      "==============================================================================\n",
      "Dep. Variable:                     MV   R-squared:                       0.642\n",
      "Model:                            OLS   Adj. R-squared:                  0.633\n",
      "Method:                 Least Squares   F-statistic:                     78.34\n",
      "Date:                Tue, 26 Jan 2021   Prob (F-statistic):           3.48e-82\n",
      "Time:                        19:42:54   Log-Likelihood:                -1257.7\n",
      "No. Observations:                 404   AIC:                             2535.\n",
      "Df Residuals:                     394   BIC:                             2575.\n",
      "Df Model:                           9                                         \n",
      "Covariance Type:            nonrobust                                         \n",
      "==============================================================================\n",
      "                 coef    std err          t      P>|t|      [0.025      0.975]\n",
      "------------------------------------------------------------------------------\n",
      "const         15.0719      6.031      2.499      0.013       3.215      26.929\n",
      "CRIM          -0.1376      0.037     -3.706      0.000      -0.211      -0.065\n",
      "INDUS         -0.1487      0.078     -1.916      0.056      -0.301       0.004\n",
      "NOX          -15.1124      4.953     -3.051      0.002     -24.850      -5.375\n",
      "RM             6.4231      0.450     14.282      0.000       5.539       7.307\n",
      "AGE           -0.0569      0.016     -3.573      0.000      -0.088      -0.026\n",
      "DIS           -1.3770      0.230     -5.981      0.000      -1.830      -0.924\n",
      "TAX            0.0018      0.003      0.599      0.549      -0.004       0.008\n",
      "PT            -0.9483      0.156     -6.082      0.000      -1.255      -0.642\n",
      "B              0.0101      0.004      2.833      0.005       0.003       0.017\n",
      "==============================================================================\n",
      "Omnibus:                      254.801   Durbin-Watson:                   1.938\n",
      "Prob(Omnibus):                  0.000   Jarque-Bera (JB):             3040.572\n",
      "Skew:                           2.503   Prob(JB):                         0.00\n",
      "Kurtosis:                      15.473   Cond. No.                     1.42e+04\n",
      "==============================================================================\n",
      "\n",
      "Warnings:\n",
      "[1] Standard Errors assume that the covariance matrix of the errors is correctly specified.\n",
      "[2] The condition number is large, 1.42e+04. This might indicate that there are\n",
      "strong multicollinearity or other numerical problems.\n"
     ]
    }
   ],
   "source": [
    "# from model summary - note down the R-squared and adj R-squared. \n",
    "# define insignificant features and drop them if necessary\n",
    "# observe the change in R-sq and adj R-sqd\n",
    "\n",
    "print(my_model.summary())"
   ]
  },
  {
   "cell_type": "markdown",
   "metadata": {},
   "source": [
    "Analysis of model print out:\n",
    "\n",
    "Using all the columns (or predictor variables) in the dataset given to prdeict the response variable (MV), the R sq of our model is 0.642 and adjusted R sq is 0.633. To see if we can improve teh accuracy of our model, we look at the p values for each variable. \n",
    "\n",
    "Given a 95% confidence interval;\n",
    "Setting up the hypothese test to test for significance of each variable: The null hypothesis H0 will be that there is no impact of the given predictor variable on the response variable (MV), whereas the alternative hypothese Ha will be that there is a significant impact. We are setting the significance level (α) at 0.05, or a 95% confidence interval.\n",
    "\n",
    "If the resulting p value is smaller than 0.05, we reject the null hypothesis in favor of the alternate and if the p value is larger that 0.05, we fail to reject the null hypothesis.\n",
    "\n",
    "B1, B2 ... Bp = Regression coefficients for each variable\n",
    "H0: B1 = B2 ... Bp = 0\n",
    "Ha: B1...Bp ≠ 0\n",
    "α = 0.05\n",
    "\n",
    "Checking p values for each predictor variable:\n",
    "CRIM: 0\n",
    "INDUS: 0.056\n",
    "NOX: 0.002\n",
    "RM: 0\n",
    "AGE: 0\n",
    "DIS: 0\n",
    "TAX: 0.549\n",
    "PT: 0\n",
    "B: 0.005\n",
    "\n",
    "We can reject the null hypothesis for CRIM, NOX, RM, AGE, DIS, PT and B since they are all < 0.05 and are significant predictors for the response variable.\n",
    "\n",
    "The only p values > 0.05 are for INDUS and TAX\n",
    "\n",
    "Since TAX has the highest p value, it is likely the least significant predictor so we we drop it first and run the model again to see if R sq and adjusted R sq have changed.\n"
   ]
  },
  {
   "cell_type": "code",
   "execution_count": 9,
   "metadata": {},
   "outputs": [
    {
     "name": "stdout",
     "output_type": "stream",
     "text": [
      "                            OLS Regression Results                            \n",
      "==============================================================================\n",
      "Dep. Variable:                     MV   R-squared:                       0.641\n",
      "Model:                            OLS   Adj. R-squared:                  0.634\n",
      "Method:                 Least Squares   F-statistic:                     88.23\n",
      "Date:                Tue, 26 Jan 2021   Prob (F-statistic):           4.28e-83\n",
      "Time:                        19:42:54   Log-Likelihood:                -1257.9\n",
      "No. Observations:                 404   AIC:                             2534.\n",
      "Df Residuals:                     395   BIC:                             2570.\n",
      "Df Model:                           8                                         \n",
      "Covariance Type:            nonrobust                                         \n",
      "==============================================================================\n",
      "                 coef    std err          t      P>|t|      [0.025      0.975]\n",
      "------------------------------------------------------------------------------\n",
      "const         14.4115      5.925      2.432      0.015       2.764      26.059\n",
      "CRIM          -0.1297      0.035     -3.742      0.000      -0.198      -0.062\n",
      "INDUS         -0.1301      0.071     -1.830      0.068      -0.270       0.010\n",
      "NOX          -14.2188      4.720     -3.013      0.003     -23.497      -4.940\n",
      "RM             6.4525      0.447     14.445      0.000       5.574       7.331\n",
      "AGE           -0.0576      0.016     -3.629      0.000      -0.089      -0.026\n",
      "DIS           -1.3603      0.228     -5.957      0.000      -1.809      -0.911\n",
      "PT            -0.9186      0.148     -6.219      0.000      -1.209      -0.628\n",
      "B              0.0098      0.004      2.782      0.006       0.003       0.017\n",
      "==============================================================================\n",
      "Omnibus:                      260.978   Durbin-Watson:                   1.940\n",
      "Prob(Omnibus):                  0.000   Jarque-Bera (JB):             3237.494\n",
      "Skew:                           2.572   Prob(JB):                         0.00\n",
      "Kurtosis:                      15.879   Cond. No.                     9.25e+03\n",
      "==============================================================================\n",
      "\n",
      "Warnings:\n",
      "[1] Standard Errors assume that the covariance matrix of the errors is correctly specified.\n",
      "[2] The condition number is large, 9.25e+03. This might indicate that there are\n",
      "strong multicollinearity or other numerical problems.\n"
     ]
    }
   ],
   "source": [
    "# Dropping 'TAX' variable and rerunning model\n",
    "\n",
    "X_train = X_train.drop(['TAX'], axis=1)\n",
    "\n",
    "my_model2 = sm.OLS(Y_train, X_train).fit()\n",
    "\n",
    "print(my_model2.summary())"
   ]
  },
  {
   "cell_type": "markdown",
   "metadata": {},
   "source": [
    "R sq has fallen from 0.642 to 0.641 \n",
    "Adjusted R sq has risen from 0.633 to 0.634\n",
    "\n",
    "Since adjusted R sq has gone up while R sq has fallen only slightly, we can conclude that dropping TAX has improved the fit of our model based on adjusted R sq which is a more reliable indicator of model fit since it taken into account useless variables.\n",
    "\n",
    "Again, we analyze p values and note that INDUS had a p value of 0.068 which is > than our alpha of 0.05 so we will drop it and re run the model to see if it improves our values."
   ]
  },
  {
   "cell_type": "code",
   "execution_count": 10,
   "metadata": {},
   "outputs": [],
   "source": [
    "# Check r2_score, mean_squared_error, mean_absolute_error value from sklearn using the test set\n",
    "\n",
    "X_test = X_test.drop(['TAX'], axis=1)"
   ]
  },
  {
   "cell_type": "code",
   "execution_count": 11,
   "metadata": {},
   "outputs": [
    {
     "name": "stdout",
     "output_type": "stream",
     "text": [
      "R2  is 0.7259104836332608\n",
      "MSE is 25.030308195709885\n",
      "MAE is 3.5086179037490037\n"
     ]
    }
   ],
   "source": [
    "predictions = my_model2.predict(X_test)\n",
    "\n",
    "print('R2  is '+str(r2_score(Y_test, predictions)))\n",
    "print('MSE is '+str(mean_squared_error(Y_test, predictions)))\n",
    "print('MAE is '+str(mean_absolute_error(Y_test, predictions)))"
   ]
  },
  {
   "cell_type": "code",
   "execution_count": 12,
   "metadata": {},
   "outputs": [
    {
     "name": "stdout",
     "output_type": "stream",
     "text": [
      "                            OLS Regression Results                            \n",
      "==============================================================================\n",
      "Dep. Variable:                     MV   R-squared:                       0.638\n",
      "Model:                            OLS   Adj. R-squared:                  0.632\n",
      "Method:                 Least Squares   F-statistic:                     99.77\n",
      "Date:                Tue, 26 Jan 2021   Prob (F-statistic):           2.16e-83\n",
      "Time:                        19:43:21   Log-Likelihood:                -1259.6\n",
      "No. Observations:                 404   AIC:                             2535.\n",
      "Df Residuals:                     396   BIC:                             2567.\n",
      "Df Model:                           7                                         \n",
      "Covariance Type:            nonrobust                                         \n",
      "==============================================================================\n",
      "                 coef    std err          t      P>|t|      [0.025      0.975]\n",
      "------------------------------------------------------------------------------\n",
      "const         14.4501      5.942      2.432      0.015       2.768      26.132\n",
      "CRIM          -0.1313      0.035     -3.779      0.000      -0.200      -0.063\n",
      "NOX          -17.6109      4.353     -4.045      0.000     -26.169      -9.052\n",
      "RM             6.6400      0.436     15.226      0.000       5.783       7.497\n",
      "AGE           -0.0593      0.016     -3.731      0.000      -0.091      -0.028\n",
      "DIS           -1.2635      0.223     -5.671      0.000      -1.701      -0.825\n",
      "PT            -0.9857      0.144     -6.869      0.000      -1.268      -0.704\n",
      "B              0.0105      0.004      2.963      0.003       0.004       0.017\n",
      "==============================================================================\n",
      "Omnibus:                      256.523   Durbin-Watson:                   1.966\n",
      "Prob(Omnibus):                  0.000   Jarque-Bera (JB):             3100.357\n",
      "Skew:                           2.521   Prob(JB):                         0.00\n",
      "Kurtosis:                      15.600   Cond. No.                     9.14e+03\n",
      "==============================================================================\n",
      "\n",
      "Warnings:\n",
      "[1] Standard Errors assume that the covariance matrix of the errors is correctly specified.\n",
      "[2] The condition number is large, 9.14e+03. This might indicate that there are\n",
      "strong multicollinearity or other numerical problems.\n"
     ]
    }
   ],
   "source": [
    "# Dropping 'INDUS' variable and rerunning model\n",
    "\n",
    "X_train = X_train.drop(['INDUS'], axis=1)\n",
    "\n",
    "my_model3 = sm.OLS(Y_train, X_train).fit()\n",
    "\n",
    "print(my_model3.summary())"
   ]
  },
  {
   "cell_type": "markdown",
   "metadata": {},
   "source": [
    "R sq has fallen from 0.641 to 0.638\n",
    "Adjusted R sq has fallen from 0.634 to 0.632\n",
    "\n",
    "The rest of our p values are now all within the acceptable significance level.\n",
    "\n",
    "Adjusted R sq and R sq have both fallen marginally even though p value indicated that INDUS should be dropped, so we also check if the R2 has improved for the test set."
   ]
  },
  {
   "cell_type": "code",
   "execution_count": 13,
   "metadata": {},
   "outputs": [
    {
     "name": "stdout",
     "output_type": "stream",
     "text": [
      "R2  is 0.7341993321923435\n",
      "MSE is 24.273356828975377\n",
      "MAE is 3.4628224778475536\n"
     ]
    }
   ],
   "source": [
    "# check all 3 metrics again\n",
    "\n",
    "X_test = X_test.drop(['INDUS'], axis=1)\n",
    "\n",
    "predictions = my_model3.predict(sm.add_constant(X_test))\n",
    "\n",
    "print('R2  is '+str(r2_score(Y_test, predictions)))\n",
    "print('MSE is '+str(mean_squared_error(Y_test, predictions)))\n",
    "print('MAE is '+str(mean_absolute_error(Y_test, predictions)))"
   ]
  },
  {
   "cell_type": "markdown",
   "metadata": {},
   "source": [
    "R2 for the test set has gone up from 0.725 to 0.734, by dropping 'INDUS' as well.\n",
    "\n",
    "In conclusion, to optimize model performance, we dropped 'TAX' and 'INDUS', giving us:                              \n",
    "R2 from OLS on the training set: 0.638                                                                     \n",
    "Adjusted R2 from OLS on training: 0.632                                                                           \n",
    "R2 using sklearn on the test set: 0.734                                                                       "
   ]
  },
  {
   "cell_type": "code",
   "execution_count": null,
   "metadata": {},
   "outputs": [],
   "source": []
  }
 ],
 "metadata": {
  "kernelspec": {
   "display_name": "Python 3",
   "language": "python",
   "name": "python3"
  },
  "language_info": {
   "codemirror_mode": {
    "name": "ipython",
    "version": 3
   },
   "file_extension": ".py",
   "mimetype": "text/x-python",
   "name": "python",
   "nbconvert_exporter": "python",
   "pygments_lexer": "ipython3",
   "version": "3.6.5"
  }
 },
 "nbformat": 4,
 "nbformat_minor": 4
}
